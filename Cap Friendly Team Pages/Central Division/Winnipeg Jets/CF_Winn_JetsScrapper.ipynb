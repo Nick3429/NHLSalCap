{
 "cells": [
  {
   "cell_type": "code",
   "execution_count": 1,
   "metadata": {},
   "outputs": [],
   "source": [
    "import requests\n",
    "from bs4 import BeautifulSoup\n",
    "import pandas as pd\n",
    "import time\n",
    "import logging\n",
    "import lxml\n",
    "import html5lib"
   ]
  },
  {
   "cell_type": "markdown",
   "metadata": {},
   "source": [
    "Now that necessary packages are installed, going to parse the needed url. This URL brings us to the up to date team page for the Winnipeg Jets . So I am going to scrape the cap friendly website (Team tab, WPG Jets) and get this into a couple different dataframes (Draft, Forwards, Defense, Goalies, Season Opening Injured Reserve) that I can download and put into the MySQL database."
   ]
  },
  {
   "cell_type": "code",
   "execution_count": 2,
   "metadata": {},
   "outputs": [],
   "source": [
    "url_v3 = \"https://www.capfriendly.com/teams/jets\"\n",
    "\n",
    "req2 = requests.get(url_v3)\n",
    "soup = BeautifulSoup(req2.content, 'lxml')  # make a soup of html & css from the web page"
   ]
  },
  {
   "cell_type": "code",
   "execution_count": 3,
   "metadata": {},
   "outputs": [
    {
     "name": "stderr",
     "output_type": "stream",
     "text": [
      "C:\\Users\\nsofi\\AppData\\Local\\Temp\\ipykernel_33904\\2119059253.py:4: FutureWarning: Passing literal html to 'read_html' is deprecated and will be removed in a future version. To read from a literal string, wrap it in a 'StringIO' object.\n",
      "  forwards_df = pd.read_html(str(table),header=0, index_col = 0, na_values=[\"-\"])[0]\n"
     ]
    }
   ],
   "source": [
    "#Find all tables\n",
    "table = soup.find_all('table', class_='cf_teamProfileRosterSection__table cf_table__collapsiblePlayerColumn cf_table__default cf_table__fixed cf_table__stickyFirstColumn')\n",
    "\n",
    "forwards_df = pd.read_html(str(table),header=0, index_col = 0, na_values=[\"-\"])[0]\n",
    "\n",
    "def conditional_splitx(value):\n",
    "    if isinstance(value, str) and value.startswith('$'):\n",
    "        # Split the value by '$' and keep the first part along with the first '$'\n",
    "        first_dollar_index = value.find('$', 1)\n",
    "        return value[:first_dollar_index]\n",
    "    return value\n",
    "\n",
    "# List of columns to apply the function to\n",
    "columns_to_clean = ['2024-25', '2025-26','2026-27','2027-28','2028-29','2029-30']\n",
    "\n",
    "# Apply the function to each column in the list\n",
    "for column in columns_to_clean:\n",
    "    forwards_df[column] = forwards_df[column].apply(conditional_splitx)\n",
    "\n",
    "forwards_df.to_csv('Cap Friendly Jets Forwards.csv')\n"
   ]
  },
  {
   "cell_type": "markdown",
   "metadata": {},
   "source": [
    "Forwards are scraped. Now time to scrape defensemen."
   ]
  },
  {
   "cell_type": "code",
   "execution_count": 4,
   "metadata": {},
   "outputs": [
    {
     "name": "stderr",
     "output_type": "stream",
     "text": [
      "C:\\Users\\nsofi\\AppData\\Local\\Temp\\ipykernel_33904\\1015410.py:14: FutureWarning: Passing literal html to 'read_html' is deprecated and will be removed in a future version. To read from a literal string, wrap it in a 'StringIO' object.\n",
      "  df_defensemen = pd.read_html(str(defensemen_table))[0]\n"
     ]
    }
   ],
   "source": [
    "tables = soup.find_all('table', class_=['cf_teamProfileRosterSection__table', \n",
    "                                        'cf_table__collapsiblePlayerColumn', \n",
    "                                        'cf_table__default', \n",
    "                                        'cf_table__fixed', \n",
    "                                        'cf_table__stickyFirstColumn'])\n",
    "\n",
    "# Get the fifth instance of the table\n",
    "if len(tables) > 4:\n",
    "    defensemen_table = tables[2]  # index 4 for the fifth instance\n",
    "else:\n",
    "    raise ValueError(\"The specified table class does not have a fifth instance.\")\n",
    "\n",
    "# Convert the table to a DataFrame\n",
    "df_defensemen = pd.read_html(str(defensemen_table))[0]\n",
    "\n",
    "#Function to clean the defense table\n",
    "# List of columns to apply the function to\n",
    "columns_to_clean = ['2024-25', '2025-26','2026-27','2027-28','2028-29','2029-30']\n",
    "\n",
    "# Apply the function to each column in the list\n",
    "for column in columns_to_clean:\n",
    "    df_defensemen[column] = df_defensemen[column].apply(conditional_splitx)\n",
    "\n",
    "df_defensemen.to_csv('Cap Friendly Jets Defense.csv')"
   ]
  },
  {
   "cell_type": "markdown",
   "metadata": {},
   "source": [
    "Now that we have forwards and defense, time for goalies"
   ]
  },
  {
   "cell_type": "code",
   "execution_count": 5,
   "metadata": {},
   "outputs": [
    {
     "name": "stderr",
     "output_type": "stream",
     "text": [
      "C:\\Users\\nsofi\\AppData\\Local\\Temp\\ipykernel_33904\\3239670186.py:14: FutureWarning: Passing literal html to 'read_html' is deprecated and will be removed in a future version. To read from a literal string, wrap it in a 'StringIO' object.\n",
      "  goalies_df = pd.read_html(str(goalies_table))[0]\n"
     ]
    }
   ],
   "source": [
    "tables = soup.find_all('table', class_=['cf_teamProfileRosterSection__table', \n",
    "                                        'cf_table__collapsiblePlayerColumn', \n",
    "                                        'cf_table__default', \n",
    "                                        'cf_table__fixed', \n",
    "                                        'cf_table__stickyFirstColumn'])\n",
    "\n",
    "# Get the fifth instance of the table\n",
    "if len(tables) > 4:\n",
    "    goalies_table = tables[3]  # index 4 for the fifth instance\n",
    "else:\n",
    "    raise ValueError(\"The specified table class does not have a fifth instance.\")\n",
    "\n",
    "# Convert the table to a DataFrame\n",
    "goalies_df = pd.read_html(str(goalies_table))[0]\n",
    "\n",
    "#Function to clean the goalies table\n",
    "# List of columns to apply the function to\n",
    "columns_to_clean = ['2024-25', '2025-26','2026-27','2027-28','2028-29','2029-30']\n",
    "\n",
    "# Apply the function to each column in the list\n",
    "for column in columns_to_clean:\n",
    "    goalies_df[column] = goalies_df[column].apply(conditional_splitx)\n",
    "\n",
    "goalies_df.to_csv('Cap Friendly Jets Goalies.csv')"
   ]
  },
  {
   "cell_type": "markdown",
   "metadata": {},
   "source": [
    "Forwards, Defense, and Goalies Scraped. Now time for the Dead Cap Buyout"
   ]
  },
  {
   "cell_type": "code",
   "execution_count": 6,
   "metadata": {},
   "outputs": [
    {
     "name": "stderr",
     "output_type": "stream",
     "text": [
      "C:\\Users\\nsofi\\AppData\\Local\\Temp\\ipykernel_33904\\4262612936.py:14: FutureWarning: Passing literal html to 'read_html' is deprecated and will be removed in a future version. To read from a literal string, wrap it in a 'StringIO' object.\n",
      "  DeadCap_df = pd.read_html(str(DeadCap_table))[0]\n"
     ]
    }
   ],
   "source": [
    "tables = soup.find_all('table', class_=['cf_teamProfileRosterSection__table', \n",
    "                                        'cf_table__collapsiblePlayerColumn', \n",
    "                                        'cf_table__default', \n",
    "                                        'cf_table__fixed', \n",
    "                                        'cf_table__stickyFirstColumn'])\n",
    "\n",
    "# Get the fifth instance of the table\n",
    "if len(tables) > 4:\n",
    "    DeadCap_table = tables[4]  # index 4 for the fifth instance\n",
    "else:\n",
    "    raise ValueError(\"The specified table class does not have a fifth instance.\")\n",
    "\n",
    "# Convert the table to a DataFrame\n",
    "DeadCap_df = pd.read_html(str(DeadCap_table))[0]\n",
    "\n",
    "#Function to clean the season open IR table\n",
    "# List of columns to apply the function to\n",
    "columns_to_clean = ['2024-25', '2025-26','2026-27','2027-28','2028-29','2029-30']\n",
    "\n",
    "# Apply the function to each column in the list\n",
    "for column in columns_to_clean:\n",
    "    DeadCap_df[column] = DeadCap_df[column].apply(conditional_splitx)\n",
    "\n",
    "DeadCap_df.to_csv('Cap Friendly Jets DeadCap Buyout.csv')"
   ]
  },
  {
   "cell_type": "markdown",
   "metadata": {},
   "source": [
    "Non-Roster Time. First up, Forwards"
   ]
  },
  {
   "cell_type": "code",
   "execution_count": 7,
   "metadata": {},
   "outputs": [
    {
     "name": "stderr",
     "output_type": "stream",
     "text": [
      "C:\\Users\\nsofi\\AppData\\Local\\Temp\\ipykernel_33904\\20956841.py:14: FutureWarning: Passing literal html to 'read_html' is deprecated and will be removed in a future version. To read from a literal string, wrap it in a 'StringIO' object.\n",
      "  forwardsNR_df = pd.read_html(str(forwardsNR_table))[0]\n"
     ]
    }
   ],
   "source": [
    "tables = soup.find_all('table', class_=['cf_teamProfileRosterSection__table', \n",
    "                                        'cf_table__collapsiblePlayerColumn', \n",
    "                                        'cf_table__default', \n",
    "                                        'cf_table__fixed', \n",
    "                                        'cf_table__stickyFirstColumn'])\n",
    "\n",
    "# Get the fifth instance of the table\n",
    "if len(tables) > 4:\n",
    "    forwardsNR_table = tables[8]  # index 4 for the fifth instance\n",
    "else:\n",
    "    raise ValueError(\"The specified table class does not have a fifth instance.\")\n",
    "\n",
    "# Convert the table to a DataFrame\n",
    "forwardsNR_df = pd.read_html(str(forwardsNR_table))[0]\n",
    "\n",
    "#Function to clean the season open IR table\n",
    "# List of columns to apply the function to\n",
    "columns_to_clean = ['2024-25', '2025-26','2026-27','2027-28','2028-29','2029-30']\n",
    "\n",
    "# Apply the function to each column in the list\n",
    "for column in columns_to_clean:\n",
    "    forwardsNR_df[column] = forwardsNR_df[column].apply(conditional_splitx)\n",
    "\n",
    "forwardsNR_df.to_csv('Cap Friendly Jets Non-Roster Forwards.csv')"
   ]
  },
  {
   "cell_type": "markdown",
   "metadata": {},
   "source": [
    "Non-Roster Defense"
   ]
  },
  {
   "cell_type": "code",
   "execution_count": 8,
   "metadata": {},
   "outputs": [
    {
     "name": "stderr",
     "output_type": "stream",
     "text": [
      "C:\\Users\\nsofi\\AppData\\Local\\Temp\\ipykernel_33904\\1634765313.py:14: FutureWarning: Passing literal html to 'read_html' is deprecated and will be removed in a future version. To read from a literal string, wrap it in a 'StringIO' object.\n",
      "  defenseNR_df = pd.read_html(str(defenseNR_table))[0]\n"
     ]
    }
   ],
   "source": [
    "tables = soup.find_all('table', class_=['cf_teamProfileRosterSection__table', \n",
    "                                        'cf_table__collapsiblePlayerColumn', \n",
    "                                        'cf_table__default', \n",
    "                                        'cf_table__fixed', \n",
    "                                        'cf_table__stickyFirstColumn'])\n",
    "\n",
    "# Get the fifth instance of the table\n",
    "if len(tables) > 4:\n",
    "    defenseNR_table = tables[9]  # index 4 for the fifth instance\n",
    "else:\n",
    "    raise ValueError(\"The specified table class does not have a fifth instance.\")\n",
    "\n",
    "# Convert the table to a DataFrame\n",
    "defenseNR_df = pd.read_html(str(defenseNR_table))[0]\n",
    "\n",
    "#Function to clean the season open IR table\n",
    "# List of columns to apply the function to\n",
    "columns_to_clean = ['2024-25', '2025-26','2026-27','2027-28','2028-29','2029-30']\n",
    "\n",
    "# Apply the function to each column in the list\n",
    "for column in columns_to_clean:\n",
    "    defenseNR_df[column] = defenseNR_df[column].apply(conditional_splitx)\n",
    "\n",
    "defenseNR_df.to_csv('Cap Friendly Jets Non-Roster Defense.csv')"
   ]
  },
  {
   "cell_type": "markdown",
   "metadata": {},
   "source": [
    "Non-Roster Goalies"
   ]
  },
  {
   "cell_type": "code",
   "execution_count": 9,
   "metadata": {},
   "outputs": [
    {
     "name": "stderr",
     "output_type": "stream",
     "text": [
      "C:\\Users\\nsofi\\AppData\\Local\\Temp\\ipykernel_33904\\461303452.py:14: FutureWarning: Passing literal html to 'read_html' is deprecated and will be removed in a future version. To read from a literal string, wrap it in a 'StringIO' object.\n",
      "  goaliesNR_df = pd.read_html(str(goaliesNR_table))[0]\n"
     ]
    }
   ],
   "source": [
    "tables = soup.find_all('table', class_=['cf_teamProfileRosterSection__table', \n",
    "                                        'cf_table__collapsiblePlayerColumn', \n",
    "                                        'cf_table__default', \n",
    "                                        'cf_table__fixed', \n",
    "                                        'cf_table__stickyFirstColumn'])\n",
    "\n",
    "# Get the fifth instance of the table\n",
    "if len(tables) > 4:\n",
    "    goaliesNR_table = tables[10]  # index 4 for the fifth instance\n",
    "else:\n",
    "    raise ValueError(\"The specified table class does not have a fifth instance.\")\n",
    "\n",
    "# Convert the table to a DataFrame\n",
    "goaliesNR_df = pd.read_html(str(goaliesNR_table))[0]\n",
    "\n",
    "#Function to clean the season open IR table\n",
    "# List of columns to apply the function to\n",
    "columns_to_clean = ['2024-25', '2025-26','2026-27','2027-28','2028-29','2029-30']\n",
    "\n",
    "# Apply the function to each column in the list\n",
    "for column in columns_to_clean:\n",
    "    goaliesNR_df[column] = goaliesNR_df[column].apply(conditional_splitx)\n",
    "\n",
    "goaliesNR_df.to_csv('Cap Friendly Jets Non-Roster Goalies.csv')"
   ]
  }
 ],
 "metadata": {
  "kernelspec": {
   "display_name": ".venv",
   "language": "python",
   "name": "python3"
  },
  "language_info": {
   "codemirror_mode": {
    "name": "ipython",
    "version": 3
   },
   "file_extension": ".py",
   "mimetype": "text/x-python",
   "name": "python",
   "nbconvert_exporter": "python",
   "pygments_lexer": "ipython3",
   "version": "3.11.4"
  }
 },
 "nbformat": 4,
 "nbformat_minor": 2
}
