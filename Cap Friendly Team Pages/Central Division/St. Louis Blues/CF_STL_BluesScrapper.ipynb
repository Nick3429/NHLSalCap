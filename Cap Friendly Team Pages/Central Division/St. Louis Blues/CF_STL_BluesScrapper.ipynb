{
 "cells": [
  {
   "cell_type": "code",
   "execution_count": 9,
   "metadata": {},
   "outputs": [],
   "source": [
    "import requests\n",
    "from bs4 import BeautifulSoup\n",
    "import pandas as pd\n",
    "import time\n",
    "import logging\n",
    "import lxml\n",
    "import html5lib"
   ]
  },
  {
   "cell_type": "markdown",
   "metadata": {},
   "source": [
    "Now that necessary packages are installed, going to parse the needed url. This URL brings us to the up to date team page for the St. Louis Blues . So I am going to scrape the cap friendly website (Team tab, STL Blues) and get this into a couple different dataframes (Draft, Forwards, Defense, Goalies, Season Opening Injured Reserve) that I can download and put into the MySQL database."
   ]
  },
  {
   "cell_type": "code",
   "execution_count": 34,
   "metadata": {},
   "outputs": [],
   "source": [
    "url_v3 = \"https://www.capfriendly.com/teams/blues\"\n",
    "\n",
    "req2 = requests.get(url_v3)\n",
    "soup = BeautifulSoup(req2.content, 'lxml')  # make a soup of html & css from the web page"
   ]
  },
  {
   "cell_type": "code",
   "execution_count": 51,
   "metadata": {},
   "outputs": [],
   "source": [
    "#Find all tables\n",
    "table = soup.find_all('table', class_='cf_teamProfileRosterSection__table cf_table__collapsiblePlayerColumn cf_table__default cf_table__fixed cf_table__stickyFirstColumn')"
   ]
  },
  {
   "cell_type": "code",
   "execution_count": 18,
   "metadata": {},
   "outputs": [
    {
     "name": "stdout",
     "output_type": "stream",
     "text": [
      "[<table class=\"cf_teamProfileRosterSection__table cf_table__collapsiblePlayerColumn cf_table__default cf_table__fixed cf_table__stickyFirstColumn\"><thead><tr><th>Forwards (10 - $40,982,262)</th><th class=\"tm_yrr hide\" style=\"width:80px\">Years Remaining</th><th>Terms</th><th>POS</th><th>Status</th><th>Acquired</th><th>Age</th><th class=\"q\" title=\"Percentage of the current salary cap\">Cap%</th><th>2024-25</th><th>2025-26</th><th>2026-27</th><th>2027-28</th><th>2028-29</th><th>2029-30</th></tr></thead><tbody><tr><td><a href=\"/players/jordan-kyrou\">Kyrou, Jordan</a></td><td class=\"tm_yrr hide\">7 UFA</td><td><span class=\"con_d\"></span></td><td><span class=\"con_d\">RW</span></td><td class=\"\">NHL</td><td><a href=\"/transactions/players/jordan-kyrou\"><span class=\"q\" title=\"2016 Round 2, #35 Overall\">Draft</span></a></td><td><span class=\"q\" title=\"May 5, 1998\">26</span></td><td>9.2</td><td style=\"position:rel\"><span class=\"cap rel mtv\">$8,125,000</span><span class=\"aav rel mtv hide\">$8,125,000</span><span class=\"sal rel mtv hide\">$10,900,000</span><span class=\"bsal rel mtv hide\">$10,900,000</span><span class=\"pbonus rel mtv hide\">$0</span><span class=\"sbonus rel mtv hide\">$0</span><span class=\"cls rel mtv hide\"></span></td><td style=\"position:rel\"><span class=\"cap rel mtv\">$8,125,000</span><span class=\"aav rel mtv hide\">$8,125,000</span><span class=\"sal rel mtv hide\">$10,500,000</span><span class=\"bsal rel mtv hide\">$10,500,000</span><span class=\"pbonus rel mtv hide\">$0</span><span class=\"sbonus rel mtv hide\">$0</span><span class=\"cls rel mtv hide\">NTC</span></td><td style=\"position:rel\"><span class=\"cap rel mtv\">$8,125,000</span><span class=\"aav rel mtv hide\">$8,125,000</span><span class=\"sal rel mtv hide\">$8,250,000</span><span class=\"bsal rel mtv hide\">$8,250,000</span><span class=\"pbonus rel mtv hide\">$0</span><span class=\"sbonus rel mtv hide\">$0</span><span class=\"cls rel mtv hide\">NTC</span></td><td style=\"position:rel\"><span class=\"cap rel mtv\">$8,125,000</span><span class=\"aav rel mtv hide\">$8,125,000</span><span class=\"sal rel mtv hide\">$6,600,000</span><span class=\"bsal rel mtv hide\">$6,600,000</span><span class=\"pbonus rel mtv hide\">$0</span><span class=\"sbonus rel mtv hide\">$0</span><span class=\"cls rel mtv hide\">NTC</span></td><td style=\"position:rel\"><span class=\"cap rel mtv\">$8,125,000</span><span class=\"aav rel mtv hide\">$8,125,000</span><span class=\"sal rel mtv hide\">$6,600,000</span><span class=\"bsal rel mtv hide\">$6,600,000</span><span class=\"pbonus rel mtv hide\">$0</span><span class=\"sbonus rel mtv hide\">$0</span><span class=\"cls rel mtv hide\">NTC</span></td><td style=\"position:rel\"><span class=\"cap rel mtv\">$8,125,000<div class=\"abs mt2\" style=\"right:-15px;top:0\"><span class=\"q\" title=\"UFA at the end of 2030-31\"><img alt=\"Future Year Expiry\" height=\"13\" src=\"https://cdn2.capfriendly.com/images/icons/players/future_year_arrow.svg\" width=\"13\"/></span></div></span><span class=\"aav rel mtv hide\">$8,125,000</span><span class=\"sal rel mtv hide\">$6,600,000</span><span class=\"bsal rel mtv hide\">$6,600,000</span><span class=\"pbonus rel mtv hide\">$0</span><span class=\"sbonus rel mtv hide\">$0</span><span class=\"cls rel mtv hide\">NTC</span></td></tr><tr><td><a href=\"/players/robert-thomas\">Thomas, Robert</a> \"A\"</td><td class=\"tm_yrr hide\">7 UFA</td><td><span class=\"con_d\"></span></td><td><span class=\"con_d\">C, RW</span></td><td class=\"\">NHL</td><td><a href=\"/transactions/players/robert-thomas\"><span class=\"q\" title=\"2017 Round 1, #20 Overall\">Draft</span></a></td><td><span class=\"q\" title=\"Jul. 2, 1999\">24</span></td><td>9.2</td><td style=\"position:rel\"><span class=\"cap rel mtv\">$8,125,000</span><span class=\"aav rel mtv hide\">$8,125,000</span><span class=\"sal rel mtv hide\">$10,900,000</span><span class=\"bsal rel mtv hide\">$10,900,000</span><span class=\"pbonus rel mtv hide\">$0</span><span class=\"sbonus rel mtv hide\">$0</span><span class=\"cls rel mtv hide\"></span></td><td style=\"position:rel\"><span class=\"cap rel mtv\">$8,125,000</span><span class=\"aav rel mtv hide\">$8,125,000</span><span class=\"sal rel mtv hide\">$10,500,000</span><span class=\"bsal rel mtv hide\">$10,500,000</span><span class=\"pbonus rel mtv hide\">$0</span><span class=\"sbonus rel mtv hide\">$0</span><span class=\"cls rel mtv hide\">NTC</span></td><td style=\"position:rel\"><span class=\"cap rel mtv\">$8,125,000</span><span class=\"aav rel mtv hide\">$8,125,000</span><span class=\"sal rel mtv hide\">$8,250,000</span><span class=\"bsal rel mtv hide\">$8,250,000</span><span class=\"pbonus rel mtv hide\">$0</span><span class=\"sbonus rel mtv hide\">$0</span><span class=\"cls rel mtv hide\">NTC</span></td><td style=\"position:rel\"><span class=\"cap rel mtv\">$8,125,000</span><span class=\"aav rel mtv hide\">$8,125,000</span><span class=\"sal rel mtv hide\">$6,600,000</span><span class=\"bsal rel mtv hide\">$6,600,000</span><span class=\"pbonus rel mtv hide\">$0</span><span class=\"sbonus rel mtv hide\">$0</span><span class=\"cls rel mtv hide\">NTC</span></td><td style=\"position:rel\"><span class=\"cap rel mtv\">$8,125,000</span><span class=\"aav rel mtv hide\">$8,125,000</span><span class=\"sal rel mtv hide\">$6,600,000</span><span class=\"bsal rel mtv hide\">$6,600,000</span><span class=\"pbonus rel mtv hide\">$0</span><span class=\"sbonus rel mtv hide\">$0</span><span class=\"cls rel mtv hide\">NTC</span></td><td style=\"position:rel\"><span class=\"cap rel mtv\">$8,125,000<div class=\"abs mt2\" style=\"right:-15px;top:0\"><span class=\"q\" title=\"UFA at the end of 2030-31\"><img alt=\"Future Year Expiry\" height=\"13\" src=\"https://cdn2.capfriendly.com/images/icons/players/future_year_arrow.svg\" width=\"13\"/></span></div></span><span class=\"aav rel mtv hide\">$8,125,000</span><span class=\"sal rel mtv hide\">$6,600,000</span><span class=\"bsal rel mtv hide\">$6,600,000</span><span class=\"pbonus rel mtv hide\">$0</span><span class=\"sbonus rel mtv hide\">$0</span><span class=\"cls rel mtv hide\">NTC</span></td></tr><tr><td><a href=\"/players/brayden-schenn\">Schenn, Brayden</a> \"C\"</td><td class=\"tm_yrr hide\">4 UFA</td><td><span class=\"con_d\"><span class=\"q\" title=\"No-Trade Clause - (Starting July 1, 2025: Player submits a 15 team no trade list.)\">NTC</span></span></td><td><span class=\"con_d\">C, LW</span></td><td class=\"\">NHL</td><td><a href=\"/transactions/players/brayden-schenn\">Trade</a></td><td><span class=\"q\" title=\"Aug. 22, 1991\">32</span></td><td>7.4</td><td style=\"position:rel\"><span class=\"cap rel mtv\">$6,500,000</span><span class=\"aav rel mtv hide\">$6,500,000</span><span class=\"sal rel mtv hide\">$8,000,000</span><span class=\"bsal rel mtv hide\">$8,000,000</span><span class=\"pbonus rel mtv hide\">$0</span><span class=\"sbonus rel mtv hide\">$0</span><span class=\"cls rel mtv hide\">NTC</span></td><td style=\"position:rel\"><span class=\"cap rel mtv\">$6,500,000</span><span class=\"aav rel mtv hide\">$6,500,000</span><span class=\"sal rel mtv hide\">$6,500,000</span><span class=\"bsal rel mtv hide\">$6,500,000</span><span class=\"pbonus rel mtv hide\">$0</span><span class=\"sbonus rel mtv hide\">$0</span><span class=\"cls rel mtv hide\">M-NTC</span></td><td style=\"position:rel\"><span class=\"cap rel mtv\">$6,500,000</span><span class=\"aav rel mtv hide\">$6,500,000</span><span class=\"sal rel mtv hide\">$4,300,000</span><span class=\"bsal rel mtv hide\">$4,300,000</span><span class=\"pbonus rel mtv hide\">$0</span><span class=\"sbonus rel mtv hide\">$0</span><span class=\"cls rel mtv hide\">M-NTC</span></td><td style=\"position:rel\"><span class=\"cap rel mtv\">$6,500,000</span><span class=\"aav rel mtv hide\">$6,500,000</span><span class=\"sal rel mtv hide\">$4,000,000</span><span class=\"bsal rel mtv hide\">$4,000,000</span><span class=\"pbonus rel mtv hide\">$0</span><span class=\"sbonus rel mtv hide\">$0</span><span class=\"cls rel mtv hide\">M-NTC</span></td><td style=\"position:rel\"><div class=\"ufa\">UFA</div></td><td style=\"position:rel\"></td></tr><tr><td><a href=\"/players/pavel-buchnevich\">Buchnevich, Pavel</a></td><td class=\"tm_yrr hide\">1 UFA</td><td><span class=\"con_d\"><span class=\"q\" title=\"Modified No-Trade Clause - (Includes a 12 team no trade list)\">M-NTC</span></span></td><td><span class=\"con_d\">LW, RW, C</span></td><td class=\"\">NHL</td><td><a href=\"/transactions/players/pavel-buchnevich\">Trade</a></td><td><span class=\"q\" title=\"Apr. 17, 1995\">29</span></td><td>6.6</td><td style=\"position:rel\"><span class=\"cap rel mtv\">$5,800,000</span><span class=\"aav rel mtv hide\">$5,800,000</span><span class=\"sal rel mtv hide\">$6,300,000</span><span class=\"bsal rel mtv hide\">$6,300,000</span><span class=\"pbonus rel mtv hide\">$0</span><span class=\"sbonus rel mtv hide\">$0</span><span class=\"cls rel mtv hide\">M-NTC</span></td><td style=\"position:rel\"><div class=\"ufa\">UFA</div></td><td style=\"position:rel\"></td><td style=\"position:rel\"></td><td style=\"position:rel\"></td><td style=\"position:rel\"></td></tr><tr><td><a href=\"/players/brandon-saad\">Saad, Brandon</a></td><td class=\"tm_yrr hide\">2 UFA</td><td><span class=\"con_d\"><span class=\"q\" title=\"No-Trade Clause - (2025-26: 12 team no trade list)\">NTC</span></span></td><td><span class=\"con_d\">LW, RW</span></td><td class=\"\">NHL</td><td><a href=\"/transactions/players/brandon-saad\">Signed</a></td><td><span class=\"q\" title=\"Oct. 27, 1992\">31</span></td><td>5.1</td><td style=\"position:rel\"><span class=\"cap rel mtv\">$4,500,000</span><span class=\"aav rel mtv hide\">$4,500,000</span><span class=\"sal rel mtv hide\">$4,375,000</span><span class=\"bsal rel mtv hide\">$4,375,000</span><span class=\"pbonus rel mtv hide\">$0</span><span class=\"sbonus rel mtv hide\">$0</span><span class=\"cls rel mtv hide\">NTC</span></td><td style=\"position:rel\"><span class=\"cap rel mtv\">$4,500,000</span><span class=\"aav rel mtv hide\">$4,500,000</span><span class=\"sal rel mtv hide\">$3,625,000</span><span class=\"bsal rel mtv hide\">$3,625,000</span><span class=\"pbonus rel mtv hide\">$0</span><span class=\"sbonus rel mtv hide\">$0</span><span class=\"cls rel mtv hide\">M-NTC</span></td><td style=\"position:rel\"><div class=\"ufa\">UFA</div></td><td style=\"position:rel\"></td><td style=\"position:rel\"></td><td style=\"position:rel\"></td></tr><tr><td><a href=\"/players/kevin-hayes\">Hayes, Kevin</a></td><td class=\"tm_yrr hide\">2 UFA</td><td><span class=\"con_d\"><span class=\"q mr3\" title=\"Retained Salary Transaction\">RS</span><span class=\"q\" title=\"Modified No-Trade Clause - (Player submits a 12 team no trade list.)\">M-NTC</span></span></td><td><span class=\"con_d\">C</span></td><td class=\"\">NHL</td><td><a href=\"/transactions/players/kevin-hayes\">Trade</a></td><td><span class=\"q\" title=\"May 8, 1992\">32</span></td><td>4.1</td><td style=\"position:rel\"><span class=\"cap rel mtv\">$3,571,429</span><span class=\"aav rel mtv hide\">$3,571,429</span><span class=\"sal rel mtv hide\">$2,625,000</span><span class=\"bsal rel mtv hide\">$2,000,000</span><span class=\"pbonus rel mtv hide\">$0</span><span class=\"sbonus rel mtv hide\">$625,000</span><span class=\"cls rel mtv hide\">M-NTC</span></td><td style=\"position:rel\"><span class=\"cap rel mtv\">$3,571,429</span><span class=\"aav rel mtv hide\">$3,571,429</span><span class=\"sal rel mtv hide\">$2,625,000</span><span class=\"bsal rel mtv hide\">$2,000,000</span><span class=\"pbonus rel mtv hide\">$0</span><span class=\"sbonus rel mtv hide\">$625,000</span><span class=\"cls rel mtv hide\">M-NTC</span></td><td style=\"position:rel\"><div class=\"ufa\">UFA</div></td><td style=\"position:rel\"></td><td style=\"position:rel\"></td><td style=\"position:rel\"></td></tr><tr><td><a href=\"/players/oskar-sundqvist\">Sundqvist, Oskar</a></td><td class=\"tm_yrr hide\">2 UFA</td><td><span class=\"con_d\"></span></td><td><span class=\"con_d\">RW, C</span></td><td class=\"\">NHL</td><td><a href=\"/transactions/players/oskar-sundqvist\">Signed</a></td><td><span class=\"q\" title=\"Mar. 23, 1994\">30</span></td><td>1.7</td><td style=\"position:rel\"><span class=\"cap rel mtv\">$1,500,000</span><span class=\"aav rel mtv hide\">$1,500,000</span><span class=\"sal rel mtv hide\">$1,500,000</span><span class=\"bsal rel mtv hide\">$1,500,000</span><span class=\"pbonus rel mtv hide\">$0</span><span class=\"sbonus rel mtv hide\">$0</span><span class=\"cls rel mtv hide\"></span></td><td style=\"position:rel\"><span class=\"cap rel mtv\">$1,500,000</span><span class=\"aav rel mtv hide\">$1,500,000</span><span class=\"sal rel mtv hide\">$1,500,000</span><span class=\"bsal rel mtv hide\">$1,500,000</span><span class=\"pbonus rel mtv hide\">$0</span><span class=\"sbonus rel mtv hide\">$0</span><span class=\"cls rel mtv hide\"></span></td><td style=\"position:rel\"><div class=\"ufa\">UFA</div></td><td style=\"position:rel\"></td><td style=\"position:rel\"></td><td style=\"position:rel\"></td></tr><tr><td><a href=\"/players/alexey-toropchenko\">Toropchenko, Alexey</a></td><td class=\"tm_yrr hide\">1 RFA</td><td><span class=\"con_d\"></span></td><td><span class=\"con_d\">LW, RW</span></td><td class=\"\">NHL</td><td><a href=\"/transactions/players/alexey-toropchenko\"><span class=\"q\" title=\"2017 Round 4, #113 Overall\">Draft</span></a></td><td><span class=\"q\" title=\"Jun. 25, 1999\">24</span></td><td>1.4</td><td style=\"position:rel\"><span class=\"cap rel mtv\">$1,250,000</span><span class=\"aav rel mtv hide\">$1,250,000</span><span class=\"sal rel mtv hide\">$1,250,000</span><span class=\"bsal rel mtv hide\">$1,250,000</span><span class=\"pbonus rel mtv hide\">$0</span><span class=\"sbonus rel mtv hide\">$0</span><span class=\"cls rel mtv hide\"></span></td><td style=\"position:rel\"><div class=\"rfa\"><a class=\"q\" href=\"/arbitration-calculator/2025/all/all/all/alexey-toropchenko\" title=\"Arbitration Eligible\"><img alt=\"Arbitration Eligible\" height=\"13\" src=\"https://cdn2.capfriendly.com/images/icons/players/arbh.svg\" style=\"margin:0 3px -2px 0\" width=\"11\"/></a>RFA</div></td><td style=\"position:rel\"></td><td style=\"position:rel\"></td><td style=\"position:rel\"></td><td style=\"position:rel\"></td></tr><tr><td><a href=\"/players/jake-neighbours\">Neighbours, Jake</a></td><td class=\"tm_yrr hide\">1 RFA</td><td><span class=\"con_d\"><span class=\"q mr3\" title=\"Entry-Level Contract\">ELC</span> <a href=\"/waivers-calculator/jake-neighbours#results\"><span class=\"q\" title=\"Waivers Exempt\"><img alt=\"Waivers Exempt\" height=\"13\" src=\"https://cdn2.capfriendly.com/images/icons/players/w_e.svg\" style=\"margin:0 3px -2px 0\" width=\"13\"/></span></a></span></td><td><span class=\"con_d\">LW, RW</span></td><td class=\"\">NHL</td><td><a href=\"/transactions/players/jake-neighbours\"><span class=\"q\" title=\"2020 Round 1, #26 Overall\">Draft</span></a></td><td><span class=\"q\" title=\"Mar. 29, 2002\">22</span></td><td>0.9</td><td style=\"position:rel\"><span class=\"twoway cap rel mtv\">$835,833</span><span class=\"twoway aav rel mtv hide\">$863,333</span><span class=\"twoway sal rel mtv hide\">$832,500</span><span class=\"twoway bsal rel mtv hide\">$832,500</span><span class=\"twoway pbonus rel mtv hide\">$0</span><span class=\"twoway sbonus rel mtv hide\">$0</span><span class=\"twoway cls rel mtv hide\"></span></td><td style=\"position:rel\"><div class=\"rfa\">RFA</div></td><td style=\"position:rel\"></td><td style=\"position:rel\"></td><td style=\"position:rel\"></td><td style=\"position:rel\"></td></tr><tr><td><a href=\"/players/nathan-walker\">Walker, Nathan</a></td><td class=\"tm_yrr hide\">2 UFA</td><td><span class=\"con_d\"></span></td><td><span class=\"con_d\">LW</span></td><td class=\"\">NHL</td><td><a href=\"/transactions/players/nathan-walker\">Signed</a></td><td><span class=\"q\" title=\"Feb. 7, 1994\">30</span></td><td>0.9</td><td style=\"position:rel\"><span class=\"cap rel mtv\">$775,000</span><span class=\"aav rel mtv hide\">$775,000</span><span class=\"sal rel mtv hide\">$775,000</span><span class=\"bsal rel mtv hide\">$775,000</span><span class=\"pbonus rel mtv hide\">$0</span><span class=\"sbonus rel mtv hide\">$0</span><span class=\"cls rel mtv hide\"></span></td><td style=\"position:rel\"><span class=\"cap rel mtv\">$775,000</span><span class=\"aav rel mtv hide\">$775,000</span><span class=\"sal rel mtv hide\">$775,000</span><span class=\"bsal rel mtv hide\">$775,000</span><span class=\"pbonus rel mtv hide\">$0</span><span class=\"sbonus rel mtv hide\">$0</span><span class=\"cls rel mtv hide\"></span></td><td style=\"position:rel\"><div class=\"ufa\">UFA</div></td><td style=\"position:rel\"></td><td style=\"position:rel\"></td><td style=\"position:rel\"></td></tr><tr><td><a href=\"/players/nikita-alexandrov\">Alexandrov, Nikita</a></td><td class=\"tm_yrr hide\">0 RFA</td><td><span class=\"con_d\"></span></td><td><span class=\"con_d\">C</span></td><td class=\"\">NHL</td><td><a href=\"/transactions/players/nikita-alexandrov\"><span class=\"q\" title=\"2019 Round 2, #62 Overall\">Draft</span></a></td><td><span class=\"q\" title=\"Sep. 16, 2000\">23</span></td><td></td><td style=\"position:rel\"><div class=\"rfa\">RFA</div></td><td style=\"position:rel\"></td><td style=\"position:rel\"></td><td style=\"position:rel\"></td><td style=\"position:rel\"></td><td style=\"position:rel\"></td></tr><tr><td><a href=\"/players/samuel-blais\">Blais, Samuel</a></td><td class=\"tm_yrr hide\">0 UFA</td><td><span class=\"con_d\"></span></td><td><span class=\"con_d\">LW, RW</span></td><td class=\"\">NHL</td><td><a href=\"/transactions/players/samuel-blais\">Trade</a></td><td><span class=\"q\" title=\"Jun. 17, 1996\">28</span></td><td></td><td style=\"position:rel\"><div class=\"ufa\">UFA</div></td><td style=\"position:rel\"></td><td style=\"position:rel\"></td><td style=\"position:rel\"></td><td style=\"position:rel\"></td><td style=\"position:rel\"></td></tr><tr><td><a href=\"/players/kasperi-kapanen\">Kapanen, Kasperi</a></td><td class=\"tm_yrr hide\">0 UFA</td><td><span class=\"con_d\"></span></td><td><span class=\"con_d\">RW</span></td><td class=\"\">NHL</td><td><a href=\"/transactions/players/kasperi-kapanen\">Waivers claim</a></td><td><span class=\"q\" title=\"Jul. 23, 1996\">27</span></td><td></td><td style=\"position:rel\"><div class=\"ufa\">UFA</div></td><td style=\"position:rel\"></td><td style=\"position:rel\"></td><td style=\"position:rel\"></td><td style=\"position:rel\"></td><td style=\"position:rel\"></td></tr></tbody><tfoot><tr><td>TOTAL</td><td class=\"tm_yrr hide\"></td><td></td><td></td><td></td><td></td><td><span class=\"q\" title=\"Average Age\">27.5</span></td><td>46.6</td><td><span class=\"cap team_salary_data mtv\">$40,982,262</span><span class=\"aav team_salary_data hide mtv\">$41,009,762</span><span class=\"sal team_salary_data hide mtv\">$47,457,500</span><span class=\"bsal team_salary_data hide mtv\">$46,832,500</span><span class=\"pbonus team_salary_data hide mtv\">$0</span><span class=\"sbonus team_salary_data hide mtv\">$625,000</span></td><td><span class=\"cap team_salary_data mtv\">$33,096,429</span><span class=\"aav team_salary_data hide mtv\">$33,096,429</span><span class=\"sal team_salary_data hide mtv\">$36,025,000</span><span class=\"bsal team_salary_data hide mtv\">$35,400,000</span><span class=\"pbonus team_salary_data hide mtv\">$0</span><span class=\"sbonus team_salary_data hide mtv\">$625,000</span></td><td><span class=\"cap team_salary_data mtv\">$22,750,000</span><span class=\"aav team_salary_data hide mtv\">$22,750,000</span><span class=\"sal team_salary_data hide mtv\">$20,800,000</span><span class=\"bsal team_salary_data hide mtv\">$20,800,000</span><span class=\"pbonus team_salary_data hide mtv\">$0</span><span class=\"sbonus team_salary_data hide mtv\">$0</span></td><td><span class=\"cap team_salary_data mtv\">$22,750,000</span><span class=\"aav team_salary_data hide mtv\">$22,750,000</span><span class=\"sal team_salary_data hide mtv\">$17,200,000</span><span class=\"bsal team_salary_data hide mtv\">$17,200,000</span><span class=\"pbonus team_salary_data hide mtv\">$0</span><span class=\"sbonus team_salary_data hide mtv\">$0</span></td><td><span class=\"cap team_salary_data mtv\">$16,250,000</span><span class=\"aav team_salary_data hide mtv\">$16,250,000</span><span class=\"sal team_salary_data hide mtv\">$13,200,000</span><span class=\"bsal team_salary_data hide mtv\">$13,200,000</span><span class=\"pbonus team_salary_data hide mtv\">$0</span><span class=\"sbonus team_salary_data hide mtv\">$0</span></td><td><span class=\"cap team_salary_data mtv\">$16,250,000</span><span class=\"aav team_salary_data hide mtv\">$16,250,000</span><span class=\"sal team_salary_data hide mtv\">$13,200,000</span><span class=\"bsal team_salary_data hide mtv\">$13,200,000</span><span class=\"pbonus team_salary_data hide mtv\">$0</span><span class=\"sbonus team_salary_data hide mtv\">$0</span></td></tr></tfoot></table>, <table class=\"cf_teamProfileRosterSection__table cf_table__collapsiblePlayerColumn cf_table__default cf_table__fixed cf_table__stickyFirstColumn\"><thead><tr><th>Defense (6 - $25,450,000)</th><th class=\"tm_yrr hide\" style=\"width:80px\">Years Remaining</th><th>Terms</th><th>POS</th><th>Status</th><th>Acquired</th><th>Age</th><th class=\"q\" title=\"Percentage of the current salary cap\">Cap%</th><th>2024-25</th><th>2025-26</th><th>2026-27</th><th>2027-28</th><th>2028-29</th><th>2029-30</th></tr></thead><tbody><tr><td><a href=\"/players/justin-faulk\">Faulk, Justin</a> \"A\"</td><td class=\"tm_yrr hide\">3 UFA</td><td><span class=\"con_d\"><span class=\"q\" title=\"No-Trade Clause - (Starting July 1, 2025: Player submits a 15 team no trade list.)\">NTC</span></span></td><td><span class=\"con_d\">RD</span></td><td class=\"\">NHL</td><td><a href=\"/transactions/players/justin-faulk\">Trade</a></td><td><span class=\"q\" title=\"Mar. 20, 1992\">32</span></td><td>7.4</td><td style=\"position:rel\"><span class=\"cap rel mtv\">$6,500,000</span><span class=\"aav rel mtv hide\">$6,500,000</span><span class=\"sal rel mtv hide\">$4,750,000</span><span class=\"bsal rel mtv hide\">$4,750,000</span><span class=\"pbonus rel mtv hide\">$0</span><span class=\"sbonus rel mtv hide\">$0</span><span class=\"cls rel mtv hide\">NTC</span></td><td style=\"position:rel\"><span class=\"cap rel mtv\">$6,500,000</span><span class=\"aav rel mtv hide\">$6,500,000</span><span class=\"sal rel mtv hide\">$4,500,000</span><span class=\"bsal rel mtv hide\">$4,500,000</span><span class=\"pbonus rel mtv hide\">$0</span><span class=\"sbonus rel mtv hide\">$0</span><span class=\"cls rel mtv hide\">M-NTC</span></td><td style=\"position:rel\"><span class=\"cap rel mtv\">$6,500,000</span><span class=\"aav rel mtv hide\">$6,500,000</span><span class=\"sal rel mtv hide\">$4,500,000</span><span class=\"bsal rel mtv hide\">$4,500,000</span><span class=\"pbonus rel mtv hide\">$0</span><span class=\"sbonus rel mtv hide\">$0</span><span class=\"cls rel mtv hide\">M-NTC</span></td><td style=\"position:rel\"><div class=\"ufa\">UFA</div></td><td style=\"position:rel\"></td><td style=\"position:rel\"></td></tr><tr><td><a href=\"/players/torey-krug\">Krug, Torey</a></td><td class=\"tm_yrr hide\">3 UFA</td><td><span class=\"con_d\"><span class=\"q\" title=\"No-Trade Clause - (Starting 2025-26 player submits a 15 team no trade list.)\">NTC</span></span></td><td><span class=\"con_d\">LD</span></td><td class=\"\">NHL</td><td><a href=\"/transactions/players/torey-krug\">Signed</a></td><td><span class=\"q\" title=\"Apr. 12, 1991\">33</span></td><td>7.4</td><td style=\"position:rel\"><span class=\"cap rel mtv\">$6,500,000</span><span class=\"aav rel mtv hide\">$6,500,000</span><span class=\"sal rel mtv hide\">$8,500,000</span><span class=\"bsal rel mtv hide\">$8,500,000</span><span class=\"pbonus rel mtv hide\">$0</span><span class=\"sbonus rel mtv hide\">$0</span><span class=\"cls rel mtv hide\">NTC</span></td><td style=\"position:rel\"><span class=\"cap rel mtv\">$6,500,000</span><span class=\"aav rel mtv hide\">$6,500,000</span><span class=\"sal rel mtv hide\">$6,500,000</span><span class=\"bsal rel mtv hide\">$6,500,000</span><span class=\"pbonus rel mtv hide\">$0</span><span class=\"sbonus rel mtv hide\">$0</span><span class=\"cls rel mtv hide\">M-NTC</span></td><td style=\"position:rel\"><span class=\"cap rel mtv\">$6,500,000</span><span class=\"aav rel mtv hide\">$6,500,000</span><span class=\"sal rel mtv hide\">$6,000,000</span><span class=\"bsal rel mtv hide\">$6,000,000</span><span class=\"pbonus rel mtv hide\">$0</span><span class=\"sbonus rel mtv hide\">$0</span><span class=\"cls rel mtv hide\">M-NTC</span></td><td style=\"position:rel\"><div class=\"ufa\">UFA</div></td><td style=\"position:rel\"></td><td style=\"position:rel\"></td></tr><tr><td><a href=\"/players/colton-parayko\">Parayko, Colton</a> \"A\"</td><td class=\"tm_yrr hide\">6 UFA</td><td><span class=\"con_d\"><span class=\"q\" title=\"No-Trade Clause - (Starting on July 1, 2028: Player submits a 15 team no trade list.)\">NTC</span></span></td><td><span class=\"con_d\">RD</span></td><td class=\"\">NHL</td><td><a href=\"/transactions/players/colton-parayko\"><span class=\"q\" title=\"2012 Round 3, #86 Overall\">Draft</span></a></td><td><span class=\"q\" title=\"May 12, 1993\">31</span></td><td>7.4</td><td style=\"position:rel\"><span class=\"cap rel mtv\">$6,500,000</span><span class=\"aav rel mtv hide\">$6,500,000</span><span class=\"sal rel mtv hide\">$8,000,000</span><span class=\"bsal rel mtv hide\">$8,000,000</span><span class=\"pbonus rel mtv hide\">$0</span><span class=\"sbonus rel mtv hide\">$0</span><span class=\"cls rel mtv hide\">NTC</span></td><td style=\"position:rel\"><span class=\"cap rel mtv\">$6,500,000</span><span class=\"aav rel mtv hide\">$6,500,000</span><span class=\"sal rel mtv hide\">$8,000,000</span><span class=\"bsal rel mtv hide\">$8,000,000</span><span class=\"pbonus rel mtv hide\">$0</span><span class=\"sbonus rel mtv hide\">$0</span><span class=\"cls rel mtv hide\">NTC</span></td><td style=\"position:rel\"><span class=\"cap rel mtv\">$6,500,000</span><span class=\"aav rel mtv hide\">$6,500,000</span><span class=\"sal rel mtv hide\">$6,350,000</span><span class=\"bsal rel mtv hide\">$6,350,000</span><span class=\"pbonus rel mtv hide\">$0</span><span class=\"sbonus rel mtv hide\">$0</span><span class=\"cls rel mtv hide\">NTC</span></td><td style=\"position:rel\"><span class=\"cap rel mtv\">$6,500,000</span><span class=\"aav rel mtv hide\">$6,500,000</span><span class=\"sal rel mtv hide\">$4,800,000</span><span class=\"bsal rel mtv hide\">$4,800,000</span><span class=\"pbonus rel mtv hide\">$0</span><span class=\"sbonus rel mtv hide\">$0</span><span class=\"cls rel mtv hide\">NTC</span></td><td style=\"position:rel\"><span class=\"cap rel mtv\">$6,500,000</span><span class=\"aav rel mtv hide\">$6,500,000</span><span class=\"sal rel mtv hide\">$4,800,000</span><span class=\"bsal rel mtv hide\">$4,800,000</span><span class=\"pbonus rel mtv hide\">$0</span><span class=\"sbonus rel mtv hide\">$0</span><span class=\"cls rel mtv hide\">M-NTC</span></td><td style=\"position:rel\"><span class=\"cap rel mtv\">$6,500,000<div class=\"abs mt2\" style=\"right:-15px;top:0\"><span class=\"q\" title=\"UFA at the end of 2029-30\"><img alt=\"Future Year Expiry\" height=\"13\" src=\"https://cdn2.capfriendly.com/images/icons/players/future_year_arrow.svg\" width=\"13\"/></span></div></span><span class=\"aav rel mtv hide\">$6,500,000</span><span class=\"sal rel mtv hide\">$4,800,000</span><span class=\"bsal rel mtv hide\">$4,800,000</span><span class=\"pbonus rel mtv hide\">$0</span><span class=\"sbonus rel mtv hide\">$0</span><span class=\"cls rel mtv hide\">M-NTC</span></td></tr><tr><td><a href=\"/players/nick-leddy\">Leddy, Nick</a></td><td class=\"tm_yrr hide\">2 UFA</td><td><span class=\"con_d\"><span class=\"q\" title=\"No-Trade Clause - (Starting June 30, 2025 the player submits a 16 team trade list.)\">NTC</span></span></td><td><span class=\"con_d\">LD</span></td><td class=\"\">NHL</td><td><a href=\"/transactions/players/nick-leddy\">Signed</a></td><td><span class=\"q\" title=\"Mar. 20, 1991\">33</span></td><td>4.5</td><td style=\"position:rel\"><span class=\"cap rel mtv\">$4,000,000</span><span class=\"aav rel mtv hide\">$4,000,000</span><span class=\"sal rel mtv hide\">$3,500,000</span><span class=\"bsal rel mtv hide\">$3,500,000</span><span class=\"pbonus rel mtv hide\">$0</span><span class=\"sbonus rel mtv hide\">$0</span><span class=\"cls rel mtv hide\">NTC</span></td><td style=\"position:rel\"><span class=\"cap rel mtv\">$4,000,000</span><span class=\"aav rel mtv hide\">$4,000,000</span><span class=\"sal rel mtv hide\">$3,000,000</span><span class=\"bsal rel mtv hide\">$3,000,000</span><span class=\"pbonus rel mtv hide\">$0</span><span class=\"sbonus rel mtv hide\">$0</span><span class=\"cls rel mtv hide\">M-NTC</span></td><td style=\"position:rel\"><div class=\"ufa\">UFA</div></td><td style=\"position:rel\"></td><td style=\"position:rel\"></td><td style=\"position:rel\"></td></tr><tr><td><a href=\"/players/scott-perunovich\">Perunovich, Scott</a></td><td class=\"tm_yrr hide\">1 RFA</td><td><span class=\"con_d\"><span class=\"q\" title=\"The contract details displayed have not yet been confirmed and are subject to change\"><img alt=\"Unconfirmed Information\" height=\"13\" src=\"https://cdn2.capfriendly.com/images/icons/players/alert.svg\" style=\"margin:0 0 -2px 3px\" width=\"13\"/></span></span></td><td><span class=\"con_d\">LD</span></td><td class=\"\">NHL</td><td><a href=\"/transactions/players/scott-perunovich\"><span class=\"q\" title=\"2018 Round 2, #45 Overall\">Draft</span></a></td><td><span class=\"q\" title=\"Aug. 18, 1998\">25</span></td><td>1.3</td><td style=\"position:rel\"><span class=\"cap rel mtv\">$1,150,000</span><span class=\"aav rel mtv hide\">$1,150,000</span><span class=\"sal rel mtv hide\">$1,150,000</span><span class=\"bsal rel mtv hide\">$1,150,000</span><span class=\"pbonus rel mtv hide\">$0</span><span class=\"sbonus rel mtv hide\">$0</span><span class=\"cls rel mtv hide\"></span></td><td style=\"position:rel\"><div class=\"rfa\"><a class=\"q\" href=\"/arbitration-calculator/2025/all/all/all/scott-perunovich\" title=\"Arbitration Eligible\"><img alt=\"Arbitration Eligible\" height=\"13\" src=\"https://cdn2.capfriendly.com/images/icons/players/arbh.svg\" style=\"margin:0 3px -2px 0\" width=\"11\"/></a>RFA</div></td><td style=\"position:rel\"></td><td style=\"position:rel\"></td><td style=\"position:rel\"></td><td style=\"position:rel\"></td></tr><tr><td><a href=\"/players/tyler-tucker\">Tucker, Tyler</a></td><td class=\"tm_yrr hide\">1 RFA</td><td><span class=\"con_d\"></span></td><td><span class=\"con_d\">LD/RD</span></td><td class=\"\">NHL</td><td><a href=\"/transactions/players/tyler-tucker\"><span class=\"q\" title=\"2018 Round 7, #200 Overall\">Draft</span></a></td><td><span class=\"q\" title=\"Mar. 1, 2000\">24</span></td><td>0.9</td><td style=\"position:rel\"><span class=\"cap rel mtv\">$800,000</span><span class=\"aav rel mtv hide\">$800,000</span><span class=\"sal rel mtv hide\">$800,000</span><span class=\"bsal rel mtv hide\">$800,000</span><span class=\"pbonus rel mtv hide\">$0</span><span class=\"sbonus rel mtv hide\">$0</span><span class=\"cls rel mtv hide\"></span></td><td style=\"position:rel\"><div class=\"rfa\"><a class=\"q\" href=\"/arbitration-calculator/2025/all/all/all/tyler-tucker\" title=\"Arbitration Eligible\"><img alt=\"Arbitration Eligible\" height=\"13\" src=\"https://cdn2.capfriendly.com/images/icons/players/arbh.svg\" style=\"margin:0 3px -2px 0\" width=\"11\"/></a>RFA</div></td><td style=\"position:rel\"></td><td style=\"position:rel\"></td><td style=\"position:rel\"></td><td style=\"position:rel\"></td></tr><tr><td><a href=\"/players/marco-scandella\">Scandella, Marco</a></td><td class=\"tm_yrr hide\">0 UFA</td><td><span class=\"con_d\"></span></td><td><span class=\"con_d\">LD</span></td><td class=\"\">NHL</td><td><a href=\"/transactions/players/marco-scandella\">Trade</a></td><td><span class=\"q\" title=\"Feb. 23, 1990\">34</span></td><td></td><td style=\"position:rel\"><div class=\"ufa\">UFA</div></td><td style=\"position:rel\"></td><td style=\"position:rel\"></td><td style=\"position:rel\"></td><td style=\"position:rel\"></td><td style=\"position:rel\"></td></tr></tbody><tfoot><tr><td>TOTAL</td><td class=\"tm_yrr hide\"></td><td></td><td></td><td></td><td></td><td><span class=\"q\" title=\"Average Age\">30.3</span></td><td>28.9</td><td><span class=\"cap team_salary_data mtv\">$25,450,000</span><span class=\"aav team_salary_data hide mtv\">$25,450,000</span><span class=\"sal team_salary_data hide mtv\">$26,700,000</span><span class=\"bsal team_salary_data hide mtv\">$26,700,000</span><span class=\"pbonus team_salary_data hide mtv\">$0</span><span class=\"sbonus team_salary_data hide mtv\">$0</span></td><td><span class=\"cap team_salary_data mtv\">$23,500,000</span><span class=\"aav team_salary_data hide mtv\">$23,500,000</span><span class=\"sal team_salary_data hide mtv\">$22,000,000</span><span class=\"bsal team_salary_data hide mtv\">$22,000,000</span><span class=\"pbonus team_salary_data hide mtv\">$0</span><span class=\"sbonus team_salary_data hide mtv\">$0</span></td><td><span class=\"cap team_salary_data mtv\">$19,500,000</span><span class=\"aav team_salary_data hide mtv\">$19,500,000</span><span class=\"sal team_salary_data hide mtv\">$16,850,000</span><span class=\"bsal team_salary_data hide mtv\">$16,850,000</span><span class=\"pbonus team_salary_data hide mtv\">$0</span><span class=\"sbonus team_salary_data hide mtv\">$0</span></td><td><span class=\"cap team_salary_data mtv\">$6,500,000</span><span class=\"aav team_salary_data hide mtv\">$6,500,000</span><span class=\"sal team_salary_data hide mtv\">$4,800,000</span><span class=\"bsal team_salary_data hide mtv\">$4,800,000</span><span class=\"pbonus team_salary_data hide mtv\">$0</span><span class=\"sbonus team_salary_data hide mtv\">$0</span></td><td><span class=\"cap team_salary_data mtv\">$6,500,000</span><span class=\"aav team_salary_data hide mtv\">$6,500,000</span><span class=\"sal team_salary_data hide mtv\">$4,800,000</span><span class=\"bsal team_salary_data hide mtv\">$4,800,000</span><span class=\"pbonus team_salary_data hide mtv\">$0</span><span class=\"sbonus team_salary_data hide mtv\">$0</span></td><td><span class=\"cap team_salary_data mtv\">$6,500,000</span><span class=\"aav team_salary_data hide mtv\">$6,500,000</span><span class=\"sal team_salary_data hide mtv\">$4,800,000</span><span class=\"bsal team_salary_data hide mtv\">$4,800,000</span><span class=\"pbonus team_salary_data hide mtv\">$0</span><span class=\"sbonus team_salary_data hide mtv\">$0</span></td></tr></tfoot></table>, <table class=\"cf_teamProfileRosterSection__table cf_table__collapsiblePlayerColumn cf_table__default cf_table__fixed cf_table__stickyFirstColumn\"><thead><tr><th>Goalies (2 - $6,775,000)</th><th class=\"tm_yrr hide\" style=\"width:80px\">Years Remaining</th><th>Terms</th><th>POS</th><th>Status</th><th>Acquired</th><th>Age</th><th class=\"q\" title=\"Percentage of the current salary cap\">Cap%</th><th>2024-25</th><th>2025-26</th><th>2026-27</th><th>2027-28</th><th>2028-29</th><th>2029-30</th></tr></thead><tbody><tr><td><a href=\"/players/jordan-binnington\">Binnington, Jordan</a></td><td class=\"tm_yrr hide\">3 UFA</td><td><span class=\"con_d\"><span class=\"q\" title=\"Modified No-Trade Clause - (2024-25: Player submits a 18 team no trade list; 2025-26: Player submits a 14 team no trade list; 2026-27: Player submits a 10 team no trade list)\">M-NTC</span></span></td><td><span class=\"con_d\">G</span></td><td class=\"\">NHL</td><td><a href=\"/transactions/players/jordan-binnington\"><span class=\"q\" title=\"2011 Round 3, #88 Overall\">Draft</span></a></td><td><span class=\"q\" title=\"Jul. 11, 1993\">30</span></td><td>6.8</td><td style=\"position:rel\"><span class=\"cap rel mtv\">$6,000,000</span><span class=\"aav rel mtv hide\">$6,000,000</span><span class=\"sal rel mtv hide\">$7,500,000</span><span class=\"bsal rel mtv hide\">$7,500,000</span><span class=\"pbonus rel mtv hide\">$0</span><span class=\"sbonus rel mtv hide\">$0</span><span class=\"cls rel mtv hide\">M-NTC</span></td><td style=\"position:rel\"><span class=\"cap rel mtv\">$6,000,000</span><span class=\"aav rel mtv hide\">$6,000,000</span><span class=\"sal rel mtv hide\">$6,500,000</span><span class=\"bsal rel mtv hide\">$6,500,000</span><span class=\"pbonus rel mtv hide\">$0</span><span class=\"sbonus rel mtv hide\">$0</span><span class=\"cls rel mtv hide\">M-NTC</span></td><td style=\"position:rel\"><span class=\"cap rel mtv\">$6,000,000</span><span class=\"aav rel mtv hide\">$6,000,000</span><span class=\"sal rel mtv hide\">$4,500,000</span><span class=\"bsal rel mtv hide\">$4,500,000</span><span class=\"pbonus rel mtv hide\">$0</span><span class=\"sbonus rel mtv hide\">$0</span><span class=\"cls rel mtv hide\">M-NTC</span></td><td style=\"position:rel\"><div class=\"ufa\">UFA</div></td><td style=\"position:rel\"></td><td style=\"position:rel\"></td></tr><tr><td><a href=\"/players/joel-hofer\">Hofer, Joel</a></td><td class=\"tm_yrr hide\">1 RFA</td><td><span class=\"con_d\"></span></td><td><span class=\"con_d\">G</span></td><td class=\"\">NHL</td><td><a href=\"/transactions/players/joel-hofer\"><span class=\"q\" title=\"2018 Round 4, #107 Overall\">Draft</span></a></td><td><span class=\"q\" title=\"Jul. 30, 2000\">23</span></td><td>0.9</td><td style=\"position:rel\"><span class=\"cap rel mtv\">$775,000</span><span class=\"aav rel mtv hide\">$775,000</span><span class=\"sal rel mtv hide\">$775,000</span><span class=\"bsal rel mtv hide\">$775,000</span><span class=\"pbonus rel mtv hide\">$0</span><span class=\"sbonus rel mtv hide\">$0</span><span class=\"cls rel mtv hide\"></span></td><td style=\"position:rel\"><div class=\"rfa\"><a class=\"q\" href=\"/arbitration-calculator/2025/all/all/all/joel-hofer\" title=\"Arbitration Eligible\"><img alt=\"Arbitration Eligible\" height=\"13\" src=\"https://cdn2.capfriendly.com/images/icons/players/arbh.svg\" style=\"margin:0 3px -2px 0\" width=\"11\"/></a>RFA</div></td><td style=\"position:rel\"></td><td style=\"position:rel\"></td><td style=\"position:rel\"></td><td style=\"position:rel\"></td></tr></tbody><tfoot><tr><td>TOTAL</td><td class=\"tm_yrr hide\"></td><td></td><td></td><td></td><td></td><td><span class=\"q\" title=\"Average Age\">26.5</span></td><td>7.7</td><td><span class=\"cap team_salary_data mtv\">$6,775,000</span><span class=\"aav team_salary_data hide mtv\">$6,775,000</span><span class=\"sal team_salary_data hide mtv\">$8,275,000</span><span class=\"bsal team_salary_data hide mtv\">$8,275,000</span><span class=\"pbonus team_salary_data hide mtv\">$0</span><span class=\"sbonus team_salary_data hide mtv\">$0</span></td><td><span class=\"cap team_salary_data mtv\">$6,000,000</span><span class=\"aav team_salary_data hide mtv\">$6,000,000</span><span class=\"sal team_salary_data hide mtv\">$6,500,000</span><span class=\"bsal team_salary_data hide mtv\">$6,500,000</span><span class=\"pbonus team_salary_data hide mtv\">$0</span><span class=\"sbonus team_salary_data hide mtv\">$0</span></td><td><span class=\"cap team_salary_data mtv\">$6,000,000</span><span class=\"aav team_salary_data hide mtv\">$6,000,000</span><span class=\"sal team_salary_data hide mtv\">$4,500,000</span><span class=\"bsal team_salary_data hide mtv\">$4,500,000</span><span class=\"pbonus team_salary_data hide mtv\">$0</span><span class=\"sbonus team_salary_data hide mtv\">$0</span></td><td></td><td></td><td></td></tr></tfoot></table>, <table class=\"cf_teamProfileRosterSection__table cf_table__collapsiblePlayerColumn cf_table__default cf_table__fixed cf_table__stickyFirstColumn\"><thead><tr><th>Season Opening Injured Reserve (0)</th><th class=\"tm_yrr hide\" style=\"width:80px\">Years Remaining</th><th>Terms</th><th>POS</th><th>Status</th><th>Acquired</th><th>Age</th><th class=\"q\" title=\"Percentage of the current salary cap\">Cap%</th><th>2024-25</th><th>2025-26</th><th>2026-27</th><th>2027-28</th><th>2028-29</th><th>2029-30</th></tr></thead><tbody><tr><td><a href=\"/players/josh-jacobs\">Jacobs, Josh</a></td><td class=\"tm_yrr hide\">0 UFA</td><td><span class=\"con_d\"></span></td><td><span class=\"con_d\">RD</span></td><td class=\"q\" title=\"Season-Opening Injured Reserve\">SOIR</td><td><a href=\"/transactions/players/josh-jacobs\">Signed</a></td><td><span class=\"q\" title=\"Feb. 15, 1996\">28</span></td><td></td><td style=\"position:rel\"><div class=\"ufa\">UFA</div></td><td style=\"position:rel\"></td><td style=\"position:rel\"></td><td style=\"position:rel\"></td><td style=\"position:rel\"></td><td style=\"position:rel\"></td></tr></tbody><tfoot><tr><td>TOTAL</td><td class=\"tm_yrr hide\"></td><td></td><td></td><td></td><td></td><td><span class=\"q\" title=\"Average Age\">28.0</span></td><td>0.0</td><td></td><td></td><td></td><td></td><td></td><td></td></tr></tfoot></table>, <table class=\"cf_teamProfileRosterSection__table cf_table__collapsiblePlayerColumn cf_table__default cf_table__fixed cf_table__stickyFirstColumn\"><thead><tr><th>Forwards (14)</th><th class=\"tm_yrr hide\" style=\"width:80px\">Years Remaining</th><th>Terms</th><th>POS</th><th>Status</th><th>Acquired</th><th>Age</th><th class=\"q\" title=\"Percentage of the current salary cap\">Cap%</th><th>2024-25</th><th>2025-26</th><th>2026-27</th><th>2027-28</th><th>2028-29</th><th>2029-30</th></tr></thead><tbody><tr><td><a href=\"/players/otto-stenberg\">Stenberg, Otto</a></td><td class=\"tm_yrr hide\">3 RFA</td><td><span class=\"con_d\"><span class=\"q mr3\" title=\"Entry-Level Contract\">ELC</span><span class=\"q\" title=\"Entry Level Contract Slide Candidate\"><img alt=\"Slide Candidate\" height=\"13\" src=\"https://cdn2.capfriendly.com/images/icons/players/s_r.svg\" style=\"margin:0 3px -2px 0\" width=\"13\"/></span> <a href=\"/waivers-calculator/otto-stenberg#results\"><span class=\"q\" title=\"Waivers Exempt\"><img alt=\"Waivers Exempt\" height=\"13\" src=\"https://cdn2.capfriendly.com/images/icons/players/w_e.svg\" style=\"margin:0 3px -2px 0\" width=\"13\"/></span></a></span></td><td><span class=\"con_d\">C</span></td><td class=\"\">Minor</td><td><a href=\"/transactions/players/otto-stenberg\"><span class=\"q\" title=\"2023 Round 1, #25 Overall\">Draft</span></a></td><td><span class=\"q\" title=\"May 29, 2005\">19</span></td><td>-</td><td style=\"position:rel\"><span class=\"twoway cap rel mtv\">$950,000</span><span class=\"twoway aav rel mtv hide\">$950,000</span><span class=\"twoway sal rel mtv hide\">$82,500</span><span class=\"twoway bsal rel mtv hide\">$82,500</span><span class=\"twoway pbonus rel mtv hide\">$0</span><span class=\"twoway sbonus rel mtv hide\">$95,000</span><span class=\"twoway cls rel mtv hide\"></span></td><td style=\"position:rel\"><span class=\"twoway cap rel mtv\">$950,000</span><span class=\"twoway aav rel mtv hide\">$950,000</span><span class=\"twoway sal rel mtv hide\">$82,500</span><span class=\"twoway bsal rel mtv hide\">$82,500</span><span class=\"twoway pbonus rel mtv hide\">$0</span><span class=\"twoway sbonus rel mtv hide\">$95,000</span><span class=\"twoway cls rel mtv hide\"></span></td><td style=\"position:rel\"><span class=\"twoway cap rel mtv\">$950,000</span><span class=\"twoway aav rel mtv hide\">$950,000</span><span class=\"twoway sal rel mtv hide\">$82,500</span><span class=\"twoway bsal rel mtv hide\">$82,500</span><span class=\"twoway pbonus rel mtv hide\">$0</span><span class=\"twoway sbonus rel mtv hide\">$95,000</span><span class=\"twoway cls rel mtv hide\"></span></td><td style=\"position:rel\"><div class=\"rfa\">RFA</div></td><td style=\"position:rel\"></td><td style=\"position:rel\"></td></tr><tr><td><a href=\"/players/dalibor-dvorsky\">Dvorsky, Dalibor</a></td><td class=\"tm_yrr hide\">3 RFA</td><td><span class=\"con_d\"><span class=\"q mr3\" title=\"Entry-Level Contract\">ELC</span><span class=\"q\" title=\"Maximum Potential Performance Bonuses: $550,000\"><img alt=\"Performance Bonus\" height=\"13\" src=\"https://cdn2.capfriendly.com/images/icons/players/pb.svg\" style=\"margin:0 3px -2px 0\" width=\"13\"/></span><span class=\"q\" title=\"Entry Level Contract Slide Candidate\"><img alt=\"Slide Candidate\" height=\"13\" src=\"https://cdn2.capfriendly.com/images/icons/players/s_r.svg\" style=\"margin:0 3px -2px 0\" width=\"13\"/></span> <a href=\"/waivers-calculator/dalibor-dvorsky#results\"><span class=\"q\" title=\"Waivers Exempt\"><img alt=\"Waivers Exempt\" height=\"13\" src=\"https://cdn2.capfriendly.com/images/icons/players/w_e.svg\" style=\"margin:0 3px -2px 0\" width=\"13\"/></span></a> <span class=\"q\" title=\"Player is exempt from the 50 Standard Player Contract limit\"><img alt=\"Exempt from the 50 Contract Limit\" height=\"13\" src=\"https://cdn2.capfriendly.com/images/icons/players/spc_exempt.svg\" style=\"margin:0 3px -2px 0\" width=\"13\"/></span></span></td><td><span class=\"con_d\">C</span></td><td class=\"\">Junior</td><td><a href=\"/transactions/players/dalibor-dvorsky\"><span class=\"q\" title=\"2023 Round 1, #10 Overall\">Draft</span></a></td><td><span class=\"q\" title=\"Jun. 15, 2005\">19</span></td><td>-</td><td style=\"position:rel\"><span class=\"twoway cap rel mtv\">$918,333</span><span class=\"twoway aav rel mtv hide\">$1,701,667</span><span class=\"twoway sal rel mtv hide\">$82,500</span><span class=\"twoway bsal rel mtv hide\">$82,500</span><span class=\"twoway pbonus rel mtv hide\">$550,000</span><span class=\"twoway sbonus rel mtv hide\">$95,000</span><span class=\"twoway cls rel mtv hide\"></span></td><td style=\"position:rel\"><span class=\"twoway cap rel mtv\">$918,333</span><span class=\"twoway aav rel mtv hide\">$1,701,667</span><span class=\"twoway sal rel mtv hide\">$82,500</span><span class=\"twoway bsal rel mtv hide\">$82,500</span><span class=\"twoway pbonus rel mtv hide\">$800,000</span><span class=\"twoway sbonus rel mtv hide\">$95,000</span><span class=\"twoway cls rel mtv hide\"></span></td><td style=\"position:rel\"><span class=\"twoway cap rel mtv\">$918,333</span><span class=\"twoway aav rel mtv hide\">$1,701,667</span><span class=\"twoway sal rel mtv hide\">$82,500</span><span class=\"twoway bsal rel mtv hide\">$82,500</span><span class=\"twoway pbonus rel mtv hide\">$1,000,000</span><span class=\"twoway sbonus rel mtv hide\">$0</span><span class=\"twoway cls rel mtv hide\"></span></td><td style=\"position:rel\"><div class=\"rfa\">RFA</div></td><td style=\"position:rel\"></td><td style=\"position:rel\"></td></tr><tr><td><a href=\"/players/aleksanteri-kaskimaki\">Kaskimäki, Aleksanteri</a></td><td class=\"tm_yrr hide\">3 RFA</td><td><span class=\"con_d\"><span class=\"q mr3\" title=\"Entry-Level Contract\">ELC</span><span class=\"q\" title=\"Maximum Potential Performance Bonuses: $80,000\"><img alt=\"Performance Bonus\" height=\"13\" src=\"https://cdn2.capfriendly.com/images/icons/players/pb.svg\" style=\"margin:0 3px -2px 0\" width=\"13\"/></span> <a href=\"/waivers-calculator/aleksanteri-kaskimaki#results\"><span class=\"q\" title=\"Waivers Exempt\"><img alt=\"Waivers Exempt\" height=\"13\" src=\"https://cdn2.capfriendly.com/images/icons/players/w_e.svg\" style=\"margin:0 3px -2px 0\" width=\"13\"/></span></a></span></td><td><span class=\"con_d\">C</span></td><td class=\"\">Minor</td><td><a href=\"/transactions/players/aleksanteri-kaskimaki\"><span class=\"q\" title=\"2022 Round 3, #73 Overall\">Draft</span></a></td><td><span class=\"q\" title=\"Feb. 6, 2004\">20</span></td><td>-</td><td style=\"position:rel\"><span class=\"twoway cap rel mtv\">$870,000</span><span class=\"twoway aav rel mtv hide\">$950,000</span><span class=\"twoway sal rel mtv hide\">$82,500</span><span class=\"twoway bsal rel mtv hide\">$82,500</span><span class=\"twoway pbonus rel mtv hide\">$80,000</span><span class=\"twoway sbonus rel mtv hide\">$95,000</span><span class=\"twoway cls rel mtv hide\"></span></td><td style=\"position:rel\"><span class=\"twoway cap rel mtv\">$870,000</span><span class=\"twoway aav rel mtv hide\">$950,000</span><span class=\"twoway sal rel mtv hide\">$82,500</span><span class=\"twoway bsal rel mtv hide\">$82,500</span><span class=\"twoway pbonus rel mtv hide\">$80,000</span><span class=\"twoway sbonus rel mtv hide\">$95,000</span><span class=\"twoway cls rel mtv hide\"></span></td><td style=\"position:rel\"><span class=\"twoway cap rel mtv\">$870,000</span><span class=\"twoway aav rel mtv hide\">$950,000</span><span class=\"twoway sal rel mtv hide\">$82,500</span><span class=\"twoway bsal rel mtv hide\">$82,500</span><span class=\"twoway pbonus rel mtv hide\">$80,000</span><span class=\"twoway sbonus rel mtv hide\">$95,000</span><span class=\"twoway cls rel mtv hide\"></span></td><td style=\"position:rel\"><div class=\"rfa\">RFA</div></td><td style=\"position:rel\"></td><td style=\"position:rel\"></td></tr><tr><td><a href=\"/players/juraj-pekarcik\">Pekarcik, Juraj</a></td><td class=\"tm_yrr hide\">3 RFA</td><td><span class=\"con_d\"><span class=\"q mr3\" title=\"Entry-Level Contract\">ELC</span><span class=\"q\" title=\"Maximum Potential Performance Bonuses: $80,000\"><img alt=\"Performance Bonus\" height=\"13\" src=\"https://cdn2.capfriendly.com/images/icons/players/pb.svg\" style=\"margin:0 3px -2px 0\" width=\"13\"/></span><span class=\"q\" title=\"Entry Level Contract Slide Candidate\"><img alt=\"Slide Candidate\" height=\"13\" src=\"https://cdn2.capfriendly.com/images/icons/players/s_r.svg\" style=\"margin:0 3px -2px 0\" width=\"13\"/></span> <a href=\"/waivers-calculator/juraj-pekarcik#results\"><span class=\"q\" title=\"Waivers Exempt\"><img alt=\"Waivers Exempt\" height=\"13\" src=\"https://cdn2.capfriendly.com/images/icons/players/w_e.svg\" style=\"margin:0 3px -2px 0\" width=\"13\"/></span></a></span></td><td><span class=\"con_d\">LW</span></td><td class=\"\">Minor</td><td><a href=\"/transactions/players/juraj-pekarcik\"><span class=\"q\" title=\"2023 Round 3, #76 Overall\">Draft</span></a></td><td><span class=\"q\" title=\"Sep. 12, 2005\">18</span></td><td>-</td><td style=\"position:rel\"><span class=\"twoway cap rel mtv\">$870,000</span><span class=\"twoway aav rel mtv hide\">$950,000</span><span class=\"twoway sal rel mtv hide\">$82,500</span><span class=\"twoway bsal rel mtv hide\">$82,500</span><span class=\"twoway pbonus rel mtv hide\">$80,000</span><span class=\"twoway sbonus rel mtv hide\">$95,000</span><span class=\"twoway cls rel mtv hide\"></span></td><td style=\"position:rel\"><span class=\"twoway cap rel mtv\">$870,000</span><span class=\"twoway aav rel mtv hide\">$950,000</span><span class=\"twoway sal rel mtv hide\">$82,500</span><span class=\"twoway bsal rel mtv hide\">$82,500</span><span class=\"twoway pbonus rel mtv hide\">$80,000</span><span class=\"twoway sbonus rel mtv hide\">$95,000</span><span class=\"twoway cls rel mtv hide\"></span></td><td style=\"position:rel\"><span class=\"twoway cap rel mtv\">$870,000</span><span class=\"twoway aav rel mtv hide\">$950,000</span><span class=\"twoway sal rel mtv hide\">$82,500</span><span class=\"twoway bsal rel mtv hide\">$82,500</span><span class=\"twoway pbonus rel mtv hide\">$80,000</span><span class=\"twoway sbonus rel mtv hide\">$95,000</span><span class=\"twoway cls rel mtv hide\"></span></td><td style=\"position:rel\"><div class=\"rfa\">RFA</div></td><td style=\"position:rel\"></td><td style=\"position:rel\"></td></tr><tr><td><a href=\"/players/marcus-sylvegard\">Sylvegård, Marcus</a></td><td class=\"tm_yrr hide\">1 RFA</td><td><span class=\"con_d\"><span class=\"q mr3\" title=\"Entry-Level Contract\">ELC</span><span class=\"q\" title=\"Maximum Potential Performance Bonuses: $80,000\"><img alt=\"Performance Bonus\" height=\"13\" src=\"https://cdn2.capfriendly.com/images/icons/players/pb.svg\" style=\"margin:0 3px -2px 0\" width=\"13\"/></span> <a href=\"/waivers-calculator/marcus-sylvegard#results\"><span class=\"q\" title=\"Waivers Exempt\"><img alt=\"Waivers Exempt\" height=\"13\" src=\"https://cdn2.capfriendly.com/images/icons/players/w_e.svg\" style=\"margin:0 3px -2px 0\" width=\"13\"/></span></a></span></td><td><span class=\"con_d\">RW, LW</span></td><td class=\"\">Minor</td><td><a href=\"/transactions/players/marcus-sylvegard\">Signed</a></td><td><span class=\"q\" title=\"May 4, 1999\">25</span></td><td>-</td><td style=\"position:rel\"><span class=\"twoway cap rel mtv\">$870,000</span><span class=\"twoway aav rel mtv hide\">$950,000</span><span class=\"twoway sal rel mtv hide\">$82,500</span><span class=\"twoway bsal rel mtv hide\">$82,500</span><span class=\"twoway pbonus rel mtv hide\">$80,000</span><span class=\"twoway sbonus rel mtv hide\">$95,000</span><span class=\"twoway cls rel mtv hide\"></span></td><td style=\"position:rel\"><div class=\"rfa\">RFA</div></td><td style=\"position:rel\"></td><td style=\"position:rel\"></td><td style=\"position:rel\"></td><td style=\"position:rel\"></td></tr><tr><td><a href=\"/players/dylan-peterson\">Peterson, Dylan</a></td><td class=\"tm_yrr hide\">2 RFA</td><td><span class=\"con_d\"><span class=\"q mr3\" title=\"Entry-Level Contract\">ELC</span><span class=\"q\" title=\"Maximum Potential Performance Bonuses: $57,500\"><img alt=\"Performance Bonus\" height=\"13\" src=\"https://cdn2.capfriendly.com/images/icons/players/pb.svg\" style=\"margin:0 3px -2px 0\" width=\"13\"/></span> <a href=\"/waivers-calculator/dylan-peterson#results\"><span class=\"q\" title=\"Waivers Exempt\"><img alt=\"Waivers Exempt\" height=\"13\" src=\"https://cdn2.capfriendly.com/images/icons/players/w_e.svg\" style=\"margin:0 3px -2px 0\" width=\"13\"/></span></a></span></td><td><span class=\"con_d\">C</span></td><td class=\"\">Minor</td><td><a href=\"/transactions/players/dylan-peterson\"><span class=\"q\" title=\"2020 Round 3, #86 Overall\">Draft</span></a></td><td><span class=\"q\" title=\"Jan. 8, 2002\">22</span></td><td>-</td><td style=\"position:rel\"><span class=\"twoway cap rel mtv\">$867,500</span><span class=\"twoway aav rel mtv hide\">$925,000</span><span class=\"twoway sal rel mtv hide\">$80,000</span><span class=\"twoway bsal rel mtv hide\">$80,000</span><span class=\"twoway pbonus rel mtv hide\">$57,500</span><span class=\"twoway sbonus rel mtv hide\">$92,500</span><span class=\"twoway cls rel mtv hide\"></span></td><td style=\"position:rel\"><span class=\"twoway cap rel mtv\">$867,500</span><span class=\"twoway aav rel mtv hide\">$925,000</span><span class=\"twoway sal rel mtv hide\">$80,000</span><span class=\"twoway bsal rel mtv hide\">$80,000</span><span class=\"twoway pbonus rel mtv hide\">$57,500</span><span class=\"twoway sbonus rel mtv hide\">$92,500</span><span class=\"twoway cls rel mtv hide\"></span></td><td style=\"position:rel\"><div class=\"rfa\">RFA</div></td><td style=\"position:rel\"></td><td style=\"position:rel\"></td><td style=\"position:rel\"></td></tr><tr><td><a href=\"/players/simon-robertsson\">Robertsson, Simon</a></td><td class=\"tm_yrr hide\">3 RFA</td><td><span class=\"con_d\"><span class=\"q mr3\" title=\"Entry-Level Contract\">ELC</span><span class=\"q\" title=\"Maximum Potential Performance Bonuses: $57,500\"><img alt=\"Performance Bonus\" height=\"13\" src=\"https://cdn2.capfriendly.com/images/icons/players/pb.svg\" style=\"margin:0 3px -2px 0\" width=\"13\"/></span> <a href=\"/waivers-calculator/simon-robertsson#results\"><span class=\"q\" title=\"Waivers Exempt\"><img alt=\"Waivers Exempt\" height=\"13\" src=\"https://cdn2.capfriendly.com/images/icons/players/w_e.svg\" style=\"margin:0 3px -2px 0\" width=\"13\"/></span></a></span></td><td><span class=\"con_d\">RW</span></td><td class=\"\">Minor</td><td><a href=\"/transactions/players/simon-robertsson\"><span class=\"q\" title=\"2021 Round 3, #71 Overall\">Draft</span></a></td><td><span class=\"q\" title=\"Feb. 5, 2003\">21</span></td><td>-</td><td style=\"position:rel\"><span class=\"twoway cap rel mtv\">$867,500</span><span class=\"twoway aav rel mtv hide\">$925,000</span><span class=\"twoway sal rel mtv hide\">$80,000</span><span class=\"twoway bsal rel mtv hide\">$80,000</span><span class=\"twoway pbonus rel mtv hide\">$57,500</span><span class=\"twoway sbonus rel mtv hide\">$92,500</span><span class=\"twoway cls rel mtv hide\"></span></td><td style=\"position:rel\"><span class=\"twoway cap rel mtv\">$867,500</span><span class=\"twoway aav rel mtv hide\">$925,000</span><span class=\"twoway sal rel mtv hide\">$80,000</span><span class=\"twoway bsal rel mtv hide\">$80,000</span><span class=\"twoway pbonus rel mtv hide\">$57,500</span><span class=\"twoway sbonus rel mtv hide\">$92,500</span><span class=\"twoway cls rel mtv hide\"></span></td><td style=\"position:rel\"><span class=\"twoway cap rel mtv\">$867,500</span><span class=\"twoway aav rel mtv hide\">$925,000</span><span class=\"twoway sal rel mtv hide\">$80,000</span><span class=\"twoway bsal rel mtv hide\">$80,000</span><span class=\"twoway pbonus rel mtv hide\">$57,500</span><span class=\"twoway sbonus rel mtv hide\">$92,500</span><span class=\"twoway cls rel mtv hide\"></span></td><td style=\"position:rel\"><div class=\"rfa\">RFA</div></td><td style=\"position:rel\"></td><td style=\"position:rel\"></td></tr><tr><td><a href=\"/players/jakub-stancl\">Stancl, Jakub</a></td><td class=\"tm_yrr hide\">3 RFA</td><td><span class=\"con_d\"><span class=\"q mr3\" title=\"Entry-Level Contract\">ELC</span><span class=\"q\" title=\"Maximum Potential Performance Bonuses: $35,000\"><img alt=\"Performance Bonus\" height=\"13\" src=\"https://cdn2.capfriendly.com/images/icons/players/pb.svg\" style=\"margin:0 3px -2px 0\" width=\"13\"/></span><span class=\"q\" title=\"Entry Level Contract Slide Candidate\"><img alt=\"Slide Candidate\" height=\"13\" src=\"https://cdn2.capfriendly.com/images/icons/players/s_r.svg\" style=\"margin:0 3px -2px 0\" width=\"13\"/></span> <a href=\"/waivers-calculator/jakub-stancl#results\"><span class=\"q\" title=\"Waivers Exempt\"><img alt=\"Waivers Exempt\" height=\"13\" src=\"https://cdn2.capfriendly.com/images/icons/players/w_e.svg\" style=\"margin:0 3px -2px 0\" width=\"13\"/></span></a></span></td><td><span class=\"con_d\">LW</span></td><td class=\"\">Minor</td><td><a href=\"/transactions/players/jakub-stancl\"><span class=\"q\" title=\"2023 Round 4, #106 Overall\">Draft</span></a></td><td><span class=\"q\" title=\"Apr. 10, 2005\">19</span></td><td>-</td><td style=\"position:rel\"><span class=\"twoway cap rel mtv\">$866,667</span><span class=\"twoway aav rel mtv hide\">$916,667</span><span class=\"twoway sal rel mtv hide\">$82,500</span><span class=\"twoway bsal rel mtv hide\">$82,500</span><span class=\"twoway pbonus rel mtv hide\">$35,000</span><span class=\"twoway sbonus rel mtv hide\">$90,000</span><span class=\"twoway cls rel mtv hide\"></span></td><td style=\"position:rel\"><span class=\"twoway cap rel mtv\">$866,667</span><span class=\"twoway aav rel mtv hide\">$916,667</span><span class=\"twoway sal rel mtv hide\">$82,500</span><span class=\"twoway bsal rel mtv hide\">$82,500</span><span class=\"twoway pbonus rel mtv hide\">$35,000</span><span class=\"twoway sbonus rel mtv hide\">$90,000</span><span class=\"twoway cls rel mtv hide\"></span></td><td style=\"position:rel\"><span class=\"twoway cap rel mtv\">$866,667</span><span class=\"twoway aav rel mtv hide\">$916,667</span><span class=\"twoway sal rel mtv hide\">$82,500</span><span class=\"twoway bsal rel mtv hide\">$82,500</span><span class=\"twoway pbonus rel mtv hide\">$80,000</span><span class=\"twoway sbonus rel mtv hide\">$95,000</span><span class=\"twoway cls rel mtv hide\"></span></td><td style=\"position:rel\"><div class=\"rfa\">RFA</div></td><td style=\"position:rel\"></td><td style=\"position:rel\"></td></tr><tr><td><a href=\"/players/zachary-bolduc\">Bolduc, Zachary</a></td><td class=\"tm_yrr hide\">2 RFA</td><td><span class=\"con_d\"><span class=\"q mr3\" title=\"Entry-Level Contract\">ELC</span><span class=\"q\" title=\"Maximum Potential Performance Bonuses: $412,500\"><img alt=\"Performance Bonus\" height=\"13\" src=\"https://cdn2.capfriendly.com/images/icons/players/pb.svg\" style=\"margin:0 3px -2px 0\" width=\"13\"/></span> <a href=\"/waivers-calculator/zachary-bolduc#results\"><span class=\"q\" title=\"Waivers Exempt\"><img alt=\"Waivers Exempt\" height=\"13\" src=\"https://cdn2.capfriendly.com/images/icons/players/w_e.svg\" style=\"margin:0 3px -2px 0\" width=\"13\"/></span></a></span></td><td><span class=\"con_d\">LW</span></td><td class=\"\">Minor</td><td><a href=\"/transactions/players/zachary-bolduc\"><span class=\"q\" title=\"2021 Round 1, #17 Overall\">Draft</span></a></td><td><span class=\"q\" title=\"Feb. 24, 2003\">21</span></td><td>-</td><td style=\"position:rel\"><span class=\"twoway cap rel mtv\">$863,333</span><span class=\"twoway aav rel mtv hide\">$1,275,833</span><span class=\"twoway sal rel mtv hide\">$80,000</span><span class=\"twoway bsal rel mtv hide\">$80,000</span><span class=\"twoway pbonus rel mtv hide\">$412,500</span><span class=\"twoway sbonus rel mtv hide\">$0</span><span class=\"twoway cls rel mtv hide\"></span></td><td style=\"position:rel\"><span class=\"twoway cap rel mtv\">$863,333</span><span class=\"twoway aav rel mtv hide\">$1,275,833</span><span class=\"twoway sal rel mtv hide\">$80,000</span><span class=\"twoway bsal rel mtv hide\">$80,000</span><span class=\"twoway pbonus rel mtv hide\">$425,000</span><span class=\"twoway sbonus rel mtv hide\">$0</span><span class=\"twoway cls rel mtv hide\"></span></td><td style=\"position:rel\"><div class=\"rfa\">RFA</div></td><td style=\"position:rel\"></td><td style=\"position:rel\"></td><td style=\"position:rel\"></td></tr><tr><td><a href=\"/players/zach-dean\">Dean, Zach</a></td><td class=\"tm_yrr hide\">2 RFA</td><td><span class=\"con_d\"><span class=\"q mr3\" title=\"Entry-Level Contract\">ELC</span> <a href=\"/waivers-calculator/zach-dean#results\"><span class=\"q\" title=\"Waivers Exempt\"><img alt=\"Waivers Exempt\" height=\"13\" src=\"https://cdn2.capfriendly.com/images/icons/players/w_e.svg\" style=\"margin:0 3px -2px 0\" width=\"13\"/></span></a></span></td><td><span class=\"con_d\">C</span></td><td class=\"\">Minor</td><td><a href=\"/transactions/players/zach-dean\">Trade</a></td><td><span class=\"q\" title=\"Jan. 4, 2003\">21</span></td><td>-</td><td style=\"position:rel\"><span class=\"twoway cap rel mtv\">$852,500</span><span class=\"twoway aav rel mtv hide\">$863,333</span><span class=\"twoway sal rel mtv hide\">$80,000</span><span class=\"twoway bsal rel mtv hide\">$80,000</span><span class=\"twoway pbonus rel mtv hide\">$0</span><span class=\"twoway sbonus rel mtv hide\">$0</span><span class=\"twoway cls rel mtv hide\"></span></td><td style=\"position:rel\"><span class=\"twoway cap rel mtv\">$852,500</span><span class=\"twoway aav rel mtv hide\">$863,333</span><span class=\"twoway sal rel mtv hide\">$80,000</span><span class=\"twoway bsal rel mtv hide\">$80,000</span><span class=\"twoway pbonus rel mtv hide\">$0</span><span class=\"twoway sbonus rel mtv hide\">$0</span><span class=\"twoway cls rel mtv hide\"></span></td><td style=\"position:rel\"><div class=\"rfa\">RFA</div></td><td style=\"position:rel\"></td><td style=\"position:rel\"></td><td style=\"position:rel\"></td></tr><tr><td><a href=\"/players/tanner-dickinson\">Dickinson, Tanner</a></td><td class=\"tm_yrr hide\">1 10.2(c)</td><td><span class=\"con_d\"><span class=\"q mr3\" title=\"Entry-Level Contract\">ELC</span><span class=\"q\" title=\"Maximum Potential Performance Bonuses: $35,000\"><img alt=\"Performance Bonus\" height=\"13\" src=\"https://cdn2.capfriendly.com/images/icons/players/pb.svg\" style=\"margin:0 3px -2px 0\" width=\"13\"/></span> <a href=\"/waivers-calculator/tanner-dickinson#results\"><span class=\"q\" title=\"Waivers Exempt\"><img alt=\"Waivers Exempt\" height=\"13\" src=\"https://cdn2.capfriendly.com/images/icons/players/w_e.svg\" style=\"margin:0 3px -2px 0\" width=\"13\"/></span></a></span></td><td><span class=\"con_d\">C</span></td><td class=\"\">Minor</td><td><a href=\"/transactions/players/tanner-dickinson\"><span class=\"q\" title=\"2020 Round 4, #119 Overall\">Draft</span></a></td><td><span class=\"q\" title=\"Mar. 5, 2002\">22</span></td><td>-</td><td style=\"position:rel\"><span class=\"twoway cap rel mtv\">$826,667</span><span class=\"twoway aav rel mtv hide\">$878,333</span><span class=\"twoway sal rel mtv hide\">$80,000</span><span class=\"twoway bsal rel mtv hide\">$80,000</span><span class=\"twoway pbonus rel mtv hide\">$35,000</span><span class=\"twoway sbonus rel mtv hide\">$0</span><span class=\"twoway cls rel mtv hide\"></span></td><td style=\"position:rel\"><div class=\"rfa\">10.2(c) <span class=\"q\" title=\"This player has not accrued the necessary amount of professional seasons required for Group 2 RFA status. They are ineligible for an offer sheet. Please visit the CBA FAQ for more information\"><img alt=\"Tooltip\" height=\"13\" src=\"https://cdn2.capfriendly.com/images/icons/general/q2.svg\" style=\"margin-bottom:-1px\" width=\"13\"/></span></div></td><td style=\"position:rel\"></td><td style=\"position:rel\"></td><td style=\"position:rel\"></td><td style=\"position:rel\"></td></tr><tr><td><a href=\"/players/mackenzie-maceachern\">MacEachern, Mackenzie</a></td><td class=\"tm_yrr hide\">1 UFA</td><td><span class=\"con_d\"></span></td><td><span class=\"con_d\">LW, RW</span></td><td class=\"\">Minor</td><td><a href=\"/transactions/players/mackenzie-maceachern\">Signed</a></td><td><span class=\"q\" title=\"Mar. 9, 1994\">30</span></td><td>-</td><td style=\"position:rel\"><span class=\"cap rel mtv\">$775,000</span><span class=\"aav rel mtv hide\">$775,000</span><span class=\"sal rel mtv hide\">$775,000</span><span class=\"bsal rel mtv hide\">$775,000</span><span class=\"pbonus rel mtv hide\">$0</span><span class=\"sbonus rel mtv hide\">$0</span><span class=\"cls rel mtv hide\"></span></td><td style=\"position:rel\"><div class=\"ufa\">UFA</div></td><td style=\"position:rel\"></td><td style=\"position:rel\"></td><td style=\"position:rel\"></td><td style=\"position:rel\"></td></tr><tr><td><a href=\"/players/mathias-laferriere\">Laferrière, Mathias</a></td><td class=\"tm_yrr hide\">1 RFA</td><td><span class=\"con_d\"></span></td><td><span class=\"con_d\">C</span></td><td class=\"\">Minor</td><td><a href=\"/transactions/players/mathias-laferriere\"><span class=\"q\" title=\"2018 Round 6, #169 Overall\">Draft</span></a></td><td><span class=\"q\" title=\"Jun. 27, 2000\">23</span></td><td>-</td><td style=\"position:rel\"><span class=\"twoway cap rel mtv\">$775,000</span><span class=\"twoway aav rel mtv hide\">$775,000</span><span class=\"twoway sal rel mtv hide\">$100,000</span><span class=\"twoway bsal rel mtv hide\">$100,000</span><span class=\"twoway pbonus rel mtv hide\">$0</span><span class=\"twoway sbonus rel mtv hide\">$0</span><span class=\"twoway cls rel mtv hide\"></span></td><td style=\"position:rel\"><div class=\"rfa\">RFA</div></td><td style=\"position:rel\"></td><td style=\"position:rel\"></td><td style=\"position:rel\"></td><td style=\"position:rel\"></td></tr><tr><td><a href=\"/players/hugh-mcging\">McGing, Hugh</a></td><td class=\"tm_yrr hide\">2 UFA</td><td><span class=\"con_d\"></span></td><td><span class=\"con_d\">LW, C</span></td><td class=\"\">Minor</td><td><a href=\"/transactions/players/hugh-mcging\"><span class=\"q\" title=\"2018 Round 5, #138 Overall\">Draft</span></a></td><td><span class=\"q\" title=\"Jul. 11, 1998\">25</span></td><td>-</td><td style=\"position:rel\"><span class=\"twoway cap rel mtv\">$775,000</span><span class=\"twoway aav rel mtv hide\">$775,000</span><span class=\"twoway sal rel mtv hide\">$250,000</span><span class=\"twoway bsal rel mtv hide\">$250,000</span><span class=\"twoway pbonus rel mtv hide\">$0</span><span class=\"twoway sbonus rel mtv hide\">$0</span><span class=\"twoway cls rel mtv hide\"></span></td><td style=\"position:rel\"><span class=\"twoway cap rel mtv\">$775,000</span><span class=\"twoway aav rel mtv hide\">$775,000</span><span class=\"twoway sal rel mtv hide\">$250,000</span><span class=\"twoway bsal rel mtv hide\">$250,000</span><span class=\"twoway pbonus rel mtv hide\">$0</span><span class=\"twoway sbonus rel mtv hide\">$0</span><span class=\"twoway cls rel mtv hide\"></span></td><td style=\"position:rel\"><div class=\"ufa\">UFA</div></td><td style=\"position:rel\"></td><td style=\"position:rel\"></td><td style=\"position:rel\"></td></tr><tr><td><a href=\"/players/mikhail-abramov\">Abramov, Mikhail</a></td><td class=\"tm_yrr hide\">0 RFA</td><td><span class=\"con_d\"></span></td><td><span class=\"con_d\">C</span></td><td class=\"\">Minor</td><td><a href=\"/transactions/players/mikhail-abramov\">Trade</a></td><td><span class=\"q\" title=\"Mar. 26, 2001\">23</span></td><td>-</td><td style=\"position:rel\"><div class=\"rfa\">RFA</div></td><td style=\"position:rel\"></td><td style=\"position:rel\"></td><td style=\"position:rel\"></td><td style=\"position:rel\"></td><td style=\"position:rel\"></td></tr><tr><td><a href=\"/players/keean-washkurak\">Washkurak, Keean</a></td><td class=\"tm_yrr hide\">0 RFA</td><td><span class=\"con_d\"></span></td><td><span class=\"con_d\">C</span></td><td class=\"\">Minor</td><td><a href=\"/transactions/players/keean-washkurak\"><span class=\"q\" title=\"2019 Round 5, #155 Overall\">Draft</span></a></td><td><span class=\"q\" title=\"Aug. 16, 2001\">22</span></td><td>-</td><td style=\"position:rel\"><div class=\"rfa\">RFA</div></td><td style=\"position:rel\"></td><td style=\"position:rel\"></td><td style=\"position:rel\"></td><td style=\"position:rel\"></td><td style=\"position:rel\"></td></tr><tr><td><a href=\"/players/will-bitten\">Bitten, Will</a></td><td class=\"tm_yrr hide\">0 UFA</td><td><span class=\"con_d\"></span></td><td><span class=\"con_d\">RW, C</span></td><td class=\"\">Minor</td><td><a href=\"/transactions/players/will-bitten\">Trade</a></td><td><span class=\"q\" title=\"Jul. 10, 1998\">25</span></td><td>-</td><td style=\"position:rel\"><div class=\"ufa\"><span class=\"q\" title=\"UFA Group 6 (Did not accrue the required games by the age of 25)\">UFA G6</span></div></td><td style=\"position:rel\"></td><td style=\"position:rel\"></td><td style=\"position:rel\"></td><td style=\"position:rel\"></td><td style=\"position:rel\"></td></tr><tr><td><a href=\"/players/adam-gaudette\">Gaudette, Adam</a></td><td class=\"tm_yrr hide\">0 UFA</td><td><span class=\"con_d\"></span></td><td><span class=\"con_d\">C, RW</span></td><td class=\"\">Minor</td><td><a href=\"/transactions/players/adam-gaudette\">Trade</a></td><td><span class=\"q\" title=\"Oct. 3, 1996\">27</span></td><td>-</td><td style=\"position:rel\"><div class=\"ufa\">UFA</div></td><td style=\"position:rel\"></td><td style=\"position:rel\"></td><td style=\"position:rel\"></td><td style=\"position:rel\"></td><td style=\"position:rel\"></td></tr><tr><td><a href=\"/players/matthew-peca\">Peca, Matthew</a></td><td class=\"tm_yrr hide\">0 UFA</td><td><span class=\"con_d\"></span></td><td><span class=\"con_d\">LW, C</span></td><td class=\"\">Minor</td><td><a href=\"/transactions/players/matthew-peca\">Signed</a></td><td><span class=\"q\" title=\"Apr. 27, 1993\">31</span></td><td>-</td><td style=\"position:rel\"><div class=\"ufa\">UFA</div></td><td style=\"position:rel\"></td><td style=\"position:rel\"></td><td style=\"position:rel\"></td><td style=\"position:rel\"></td><td style=\"position:rel\"></td></tr><tr><td><a href=\"/players/jakub-vrana\">Vrána, Jakub</a></td><td class=\"tm_yrr hide\">0 UFA</td><td><span class=\"con_d\"></span></td><td><span class=\"con_d\">LW</span></td><td class=\"\">Minor</td><td><a href=\"/transactions/players/jakub-vrana\">Trade</a></td><td><span class=\"q\" title=\"Feb. 28, 1996\">28</span></td><td>-</td><td style=\"position:rel\"><div class=\"ufa\">UFA</div></td><td style=\"position:rel\"></td><td style=\"position:rel\"></td><td style=\"position:rel\"></td><td style=\"position:rel\"></td><td style=\"position:rel\"></td></tr></tbody><tfoot><tr><td>TOTAL</td><td class=\"tm_yrr hide\"></td><td></td><td></td><td></td><td></td><td><span class=\"q\" title=\"Average Age\">23.1</span></td><td>-</td><td><span class=\"cap team_salary_data mtv\">$11,947,500</span><span class=\"aav team_salary_data hide mtv\">$13,610,833</span><span class=\"sal team_salary_data hide mtv\">$2,020,000</span><span class=\"bsal team_salary_data hide mtv\">$2,020,000</span><span class=\"pbonus team_salary_data hide mtv\">$1,387,500</span><span class=\"sbonus team_salary_data hide mtv\">$750,000</span></td><td><span class=\"cap team_salary_data mtv\">$8,700,833</span><span class=\"aav team_salary_data hide mtv\">$10,232,500</span><span class=\"sal team_salary_data hide mtv\">$982,500</span><span class=\"bsal team_salary_data hide mtv\">$982,500</span><span class=\"pbonus team_salary_data hide mtv\">$1,535,000</span><span class=\"sbonus team_salary_data hide mtv\">$655,000</span></td><td><span class=\"cap team_salary_data mtv\">$5,342,500</span><span class=\"aav team_salary_data hide mtv\">$6,393,334</span><span class=\"sal team_salary_data hide mtv\">$492,500</span><span class=\"bsal team_salary_data hide mtv\">$492,500</span><span class=\"pbonus team_salary_data hide mtv\">$1,297,500</span><span class=\"sbonus team_salary_data hide mtv\">$472,500</span></td><td></td><td></td><td></td></tr></tfoot></table>, <table class=\"cf_teamProfileRosterSection__table cf_table__collapsiblePlayerColumn cf_table__default cf_table__fixed cf_table__stickyFirstColumn\"><thead><tr><th>Defense (8)</th><th class=\"tm_yrr hide\" style=\"width:80px\">Years Remaining</th><th>Terms</th><th>POS</th><th>Status</th><th>Acquired</th><th>Age</th><th class=\"q\" title=\"Percentage of the current salary cap\">Cap%</th><th>2024-25</th><th>2025-26</th><th>2026-27</th><th>2027-28</th><th>2028-29</th><th>2029-30</th></tr></thead><tbody><tr><td><a href=\"/players/theo-lindstein\">Lindstein, Theo</a></td><td class=\"tm_yrr hide\">3 RFA</td><td><span class=\"con_d\"><span class=\"q mr3\" title=\"Entry-Level Contract\">ELC</span><span class=\"q\" title=\"Entry Level Contract Slide Candidate\"><img alt=\"Slide Candidate\" height=\"13\" src=\"https://cdn2.capfriendly.com/images/icons/players/s_r.svg\" style=\"margin:0 3px -2px 0\" width=\"13\"/></span> <a href=\"/waivers-calculator/theo-lindstein#results\"><span class=\"q\" title=\"Waivers Exempt\"><img alt=\"Waivers Exempt\" height=\"13\" src=\"https://cdn2.capfriendly.com/images/icons/players/w_e.svg\" style=\"margin:0 3px -2px 0\" width=\"13\"/></span></a></span></td><td><span class=\"con_d\">LD</span></td><td class=\"\">Minor</td><td><a href=\"/transactions/players/theo-lindstein\"><span class=\"q\" title=\"2023 Round 1, #29 Overall\">Draft</span></a></td><td><span class=\"q\" title=\"Jan. 5, 2005\">19</span></td><td>-</td><td style=\"position:rel\"><span class=\"twoway cap rel mtv\">$950,000</span><span class=\"twoway aav rel mtv hide\">$950,000</span><span class=\"twoway sal rel mtv hide\">$82,500</span><span class=\"twoway bsal rel mtv hide\">$82,500</span><span class=\"twoway pbonus rel mtv hide\">$0</span><span class=\"twoway sbonus rel mtv hide\">$95,000</span><span class=\"twoway cls rel mtv hide\"></span></td><td style=\"position:rel\"><span class=\"twoway cap rel mtv\">$950,000</span><span class=\"twoway aav rel mtv hide\">$950,000</span><span class=\"twoway sal rel mtv hide\">$82,500</span><span class=\"twoway bsal rel mtv hide\">$82,500</span><span class=\"twoway pbonus rel mtv hide\">$0</span><span class=\"twoway sbonus rel mtv hide\">$95,000</span><span class=\"twoway cls rel mtv hide\"></span></td><td style=\"position:rel\"><span class=\"twoway cap rel mtv\">$950,000</span><span class=\"twoway aav rel mtv hide\">$950,000</span><span class=\"twoway sal rel mtv hide\">$82,500</span><span class=\"twoway bsal rel mtv hide\">$82,500</span><span class=\"twoway pbonus rel mtv hide\">$0</span><span class=\"twoway sbonus rel mtv hide\">$95,000</span><span class=\"twoway cls rel mtv hide\"></span></td><td style=\"position:rel\"><div class=\"rfa\">RFA</div></td><td style=\"position:rel\"></td><td style=\"position:rel\"></td></tr><tr><td><a href=\"/players/anton-malmstrom\">Malmström, Anton</a></td><td class=\"tm_yrr hide\">1 RFA</td><td><span class=\"con_d\"><span class=\"q mr3\" title=\"Entry-Level Contract\">ELC</span> <a href=\"/waivers-calculator/anton-malmstrom#results\"><span class=\"q\" title=\"Waivers Exempt\"><img alt=\"Waivers Exempt\" height=\"13\" src=\"https://cdn2.capfriendly.com/images/icons/players/w_e.svg\" style=\"margin:0 3px -2px 0\" width=\"13\"/></span></a></span></td><td><span class=\"con_d\">LD</span></td><td class=\"\">Minor</td><td><a href=\"/transactions/players/anton-malmstrom\">Signed</a></td><td><span class=\"q\" title=\"Mar. 18, 2000\">24</span></td><td>-</td><td style=\"position:rel\"><span class=\"twoway cap rel mtv\">$910,000</span><span class=\"twoway aav rel mtv hide\">$950,000</span><span class=\"twoway sal rel mtv hide\">$82,500</span><span class=\"twoway bsal rel mtv hide\">$82,500</span><span class=\"twoway pbonus rel mtv hide\">$0</span><span class=\"twoway sbonus rel mtv hide\">$95,000</span><span class=\"twoway cls rel mtv hide\"></span></td><td style=\"position:rel\"><div class=\"rfa\">RFA</div></td><td style=\"position:rel\"></td><td style=\"position:rel\"></td><td style=\"position:rel\"></td><td style=\"position:rel\"></td></tr><tr><td><a href=\"/players/samuel-johannesson\">Johannesson, Samuel</a></td><td class=\"tm_yrr hide\">2 RFA</td><td><span class=\"con_d\"><span class=\"q mr3\" title=\"Entry-Level Contract\">ELC</span><span class=\"q\" title=\"Maximum Potential Performance Bonuses: $80,000\"><img alt=\"Performance Bonus\" height=\"13\" src=\"https://cdn2.capfriendly.com/images/icons/players/pb.svg\" style=\"margin:0 3px -2px 0\" width=\"13\"/></span> <a href=\"/waivers-calculator/samuel-johannesson#results\"><span class=\"q\" title=\"Waivers Exempt\"><img alt=\"Waivers Exempt\" height=\"13\" src=\"https://cdn2.capfriendly.com/images/icons/players/w_e.svg\" style=\"margin:0 3px -2px 0\" width=\"13\"/></span></a></span></td><td><span class=\"con_d\">RD</span></td><td class=\"\">Minor</td><td><a href=\"/transactions/players/samuel-johannesson\">Signed</a></td><td><span class=\"q\" title=\"Dec. 27, 2000\">23</span></td><td>-</td><td style=\"position:rel\"><span class=\"twoway cap rel mtv\">$870,000</span><span class=\"twoway aav rel mtv hide\">$950,000</span><span class=\"twoway sal rel mtv hide\">$82,500</span><span class=\"twoway bsal rel mtv hide\">$82,500</span><span class=\"twoway pbonus rel mtv hide\">$80,000</span><span class=\"twoway sbonus rel mtv hide\">$95,000</span><span class=\"twoway cls rel mtv hide\"></span></td><td style=\"position:rel\"><span class=\"twoway cap rel mtv\">$870,000</span><span class=\"twoway aav rel mtv hide\">$950,000</span><span class=\"twoway sal rel mtv hide\">$82,500</span><span class=\"twoway bsal rel mtv hide\">$82,500</span><span class=\"twoway pbonus rel mtv hide\">$80,000</span><span class=\"twoway sbonus rel mtv hide\">$95,000</span><span class=\"twoway cls rel mtv hide\"></span></td><td style=\"position:rel\"><div class=\"rfa\">RFA</div></td><td style=\"position:rel\"></td><td style=\"position:rel\"></td><td style=\"position:rel\"></td></tr><tr><td><a href=\"/players/leo-loof\">Lööf, Leo</a></td><td class=\"tm_yrr hide\">2 RFA</td><td><span class=\"con_d\"><span class=\"q mr3\" title=\"Entry-Level Contract\">ELC</span><span class=\"q\" title=\"Maximum Potential Performance Bonuses: $57,500\"><img alt=\"Performance Bonus\" height=\"13\" src=\"https://cdn2.capfriendly.com/images/icons/players/pb.svg\" style=\"margin:0 3px -2px 0\" width=\"13\"/></span> <a href=\"/waivers-calculator/leo-loof#results\"><span class=\"q\" title=\"Waivers Exempt\"><img alt=\"Waivers Exempt\" height=\"13\" src=\"https://cdn2.capfriendly.com/images/icons/players/w_e.svg\" style=\"margin:0 3px -2px 0\" width=\"13\"/></span></a></span></td><td><span class=\"con_d\">LD</span></td><td class=\"\">Minor</td><td><a href=\"/transactions/players/leo-loof\"><span class=\"q\" title=\"2020 Round 3, #88 Overall\">Draft</span></a></td><td><span class=\"q\" title=\"Apr. 25, 2002\">22</span></td><td>-</td><td style=\"position:rel\"><span class=\"twoway cap rel mtv\">$867,500</span><span class=\"twoway aav rel mtv hide\">$925,000</span><span class=\"twoway sal rel mtv hide\">$80,000</span><span class=\"twoway bsal rel mtv hide\">$80,000</span><span class=\"twoway pbonus rel mtv hide\">$57,500</span><span class=\"twoway sbonus rel mtv hide\">$92,500</span><span class=\"twoway cls rel mtv hide\"></span></td><td style=\"position:rel\"><span class=\"twoway cap rel mtv\">$867,500</span><span class=\"twoway aav rel mtv hide\">$925,000</span><span class=\"twoway sal rel mtv hide\">$80,000</span><span class=\"twoway bsal rel mtv hide\">$80,000</span><span class=\"twoway pbonus rel mtv hide\">$57,500</span><span class=\"twoway sbonus rel mtv hide\">$92,500</span><span class=\"twoway cls rel mtv hide\"></span></td><td style=\"position:rel\"><div class=\"rfa\">RFA</div></td><td style=\"position:rel\"></td><td style=\"position:rel\"></td><td style=\"position:rel\"></td></tr><tr><td><a href=\"/players/michael-buchinger\">Buchinger, Michael</a></td><td class=\"tm_yrr hide\">3 RFA</td><td><span class=\"con_d\"><span class=\"q mr3\" title=\"Entry-Level Contract\">ELC</span><span class=\"q\" title=\"Maximum Potential Performance Bonuses: $80,000\"><img alt=\"Performance Bonus\" height=\"13\" src=\"https://cdn2.capfriendly.com/images/icons/players/pb.svg\" style=\"margin:0 3px -2px 0\" width=\"13\"/></span> <a href=\"/waivers-calculator/michael-buchinger#results\"><span class=\"q\" title=\"Waivers Exempt\"><img alt=\"Waivers Exempt\" height=\"13\" src=\"https://cdn2.capfriendly.com/images/icons/players/w_e.svg\" style=\"margin:0 3px -2px 0\" width=\"13\"/></span></a></span></td><td><span class=\"con_d\">LD</span></td><td class=\"\">Junior</td><td><a href=\"/transactions/players/michael-buchinger\"><span class=\"q\" title=\"2022 Round 3, #88 Overall\">Draft</span></a></td><td><span class=\"q\" title=\"Apr. 25, 2004\">20</span></td><td>-</td><td style=\"position:rel\"><span class=\"twoway cap rel mtv\">$838,333</span><span class=\"twoway aav rel mtv hide\">$918,333</span><span class=\"twoway sal rel mtv hide\">$82,500</span><span class=\"twoway bsal rel mtv hide\">$82,500</span><span class=\"twoway pbonus rel mtv hide\">$80,000</span><span class=\"twoway sbonus rel mtv hide\">$95,000</span><span class=\"twoway cls rel mtv hide\"></span></td><td style=\"position:rel\"><span class=\"twoway cap rel mtv\">$838,333</span><span class=\"twoway aav rel mtv hide\">$918,333</span><span class=\"twoway sal rel mtv hide\">$82,500</span><span class=\"twoway bsal rel mtv hide\">$82,500</span><span class=\"twoway pbonus rel mtv hide\">$80,000</span><span class=\"twoway sbonus rel mtv hide\">$95,000</span><span class=\"twoway cls rel mtv hide\"></span></td><td style=\"position:rel\"><span class=\"twoway cap rel mtv\">$838,333</span><span class=\"twoway aav rel mtv hide\">$918,333</span><span class=\"twoway sal rel mtv hide\">$82,500</span><span class=\"twoway bsal rel mtv hide\">$82,500</span><span class=\"twoway pbonus rel mtv hide\">$80,000</span><span class=\"twoway sbonus rel mtv hide\">$0</span><span class=\"twoway cls rel mtv hide\"></span></td><td style=\"position:rel\"><div class=\"rfa\">RFA</div></td><td style=\"position:rel\"></td><td style=\"position:rel\"></td></tr><tr><td><a href=\"/players/jeremie-biakabutuka\">Biakabutuka, Jérémie</a></td><td class=\"tm_yrr hide\">2 RFA</td><td><span class=\"con_d\"><span class=\"q mr3\" title=\"Entry-Level Contract\">ELC</span> <a href=\"/waivers-calculator/jeremie-biakabutuka#results\"><span class=\"q\" title=\"Waivers Exempt\"><img alt=\"Waivers Exempt\" height=\"13\" src=\"https://cdn2.capfriendly.com/images/icons/players/w_e.svg\" style=\"margin:0 3px -2px 0\" width=\"13\"/></span></a></span></td><td><span class=\"con_d\">RD</span></td><td class=\"\">Minor</td><td><a href=\"/transactions/players/jeremie-biakabutuka\">Signed</a></td><td><span class=\"q\" title=\"Mar. 5, 2002\">22</span></td><td>-</td><td style=\"position:rel\"><span class=\"twoway cap rel mtv\">$825,000</span><span class=\"twoway aav rel mtv hide\">$825,000</span><span class=\"twoway sal rel mtv hide\">$70,000</span><span class=\"twoway bsal rel mtv hide\">$70,000</span><span class=\"twoway pbonus rel mtv hide\">$0</span><span class=\"twoway sbonus rel mtv hide\">$50,000</span><span class=\"twoway cls rel mtv hide\"></span></td><td style=\"position:rel\"><span class=\"twoway cap rel mtv\">$825,000</span><span class=\"twoway aav rel mtv hide\">$825,000</span><span class=\"twoway sal rel mtv hide\">$70,000</span><span class=\"twoway bsal rel mtv hide\">$70,000</span><span class=\"twoway pbonus rel mtv hide\">$0</span><span class=\"twoway sbonus rel mtv hide\">$50,000</span><span class=\"twoway cls rel mtv hide\"></span></td><td style=\"position:rel\"><div class=\"rfa\">RFA</div></td><td style=\"position:rel\"></td><td style=\"position:rel\"></td><td style=\"position:rel\"></td></tr><tr><td><a href=\"/players/marc-andre-gaudet\">Gaudet, Marc-Andre</a></td><td class=\"tm_yrr hide\">3 RFA</td><td><span class=\"con_d\"><span class=\"q mr3\" title=\"Entry-Level Contract\">ELC</span> <a href=\"/waivers-calculator/marc-andre-gaudet#results\"><span class=\"q\" title=\"Waivers Exempt\"><img alt=\"Waivers Exempt\" height=\"13\" src=\"https://cdn2.capfriendly.com/images/icons/players/w_e.svg\" style=\"margin:0 3px -2px 0\" width=\"13\"/></span></a></span></td><td><span class=\"con_d\">LD</span></td><td class=\"\">Minor</td><td><a href=\"/transactions/players/marc-andre-gaudet\"><span class=\"q\" title=\"2022 Round 5, #152 Overall\">Draft</span></a></td><td><span class=\"q\" title=\"Oct. 24, 2003\">20</span></td><td>-</td><td style=\"position:rel\"><span class=\"twoway cap rel mtv\">$802,500</span><span class=\"twoway aav rel mtv hide\">$802,500</span><span class=\"twoway sal rel mtv hide\">$82,500</span><span class=\"twoway bsal rel mtv hide\">$82,500</span><span class=\"twoway pbonus rel mtv hide\">$0</span><span class=\"twoway sbonus rel mtv hide\">$85,000</span><span class=\"twoway cls rel mtv hide\"></span></td><td style=\"position:rel\"><span class=\"twoway cap rel mtv\">$802,500</span><span class=\"twoway aav rel mtv hide\">$802,500</span><span class=\"twoway sal rel mtv hide\">$82,500</span><span class=\"twoway bsal rel mtv hide\">$82,500</span><span class=\"twoway pbonus rel mtv hide\">$0</span><span class=\"twoway sbonus rel mtv hide\">$0</span><span class=\"twoway cls rel mtv hide\"></span></td><td style=\"position:rel\"><span class=\"twoway cap rel mtv\">$802,500</span><span class=\"twoway aav rel mtv hide\">$802,500</span><span class=\"twoway sal rel mtv hide\">$82,500</span><span class=\"twoway bsal rel mtv hide\">$82,500</span><span class=\"twoway pbonus rel mtv hide\">$0</span><span class=\"twoway sbonus rel mtv hide\">$0</span><span class=\"twoway cls rel mtv hide\"></span></td><td style=\"position:rel\"><div class=\"rfa\">RFA</div></td><td style=\"position:rel\"></td><td style=\"position:rel\"></td></tr><tr><td><a href=\"/players/matthew-kessel\">Kessel, Matthew</a></td><td class=\"tm_yrr hide\">2 RFA</td><td><span class=\"con_d\"> <a href=\"/waivers-calculator/matthew-kessel#results\"><span class=\"q\" title=\"Waivers Exempt\"><img alt=\"Waivers Exempt\" height=\"13\" src=\"https://cdn2.capfriendly.com/images/icons/players/w_e.svg\" style=\"margin:0 3px -2px 0\" width=\"13\"/></span></a></span></td><td><span class=\"con_d\">RD</span></td><td class=\"\">Minor</td><td><a href=\"/transactions/players/matthew-kessel\"><span class=\"q\" title=\"2020 Round 5, #150 Overall\">Draft</span></a></td><td><span class=\"q\" title=\"Jun. 23, 2000\">24</span></td><td>-</td><td style=\"position:rel\"><span class=\"cap rel mtv\">$800,000</span><span class=\"aav rel mtv hide\">$800,000</span><span class=\"sal rel mtv hide\">$800,000</span><span class=\"bsal rel mtv hide\">$800,000</span><span class=\"pbonus rel mtv hide\">$0</span><span class=\"sbonus rel mtv hide\">$0</span><span class=\"cls rel mtv hide\"></span></td><td style=\"position:rel\"><span class=\"cap rel mtv\">$800,000</span><span class=\"aav rel mtv hide\">$800,000</span><span class=\"sal rel mtv hide\">$800,000</span><span class=\"bsal rel mtv hide\">$800,000</span><span class=\"pbonus rel mtv hide\">$0</span><span class=\"sbonus rel mtv hide\">$0</span><span class=\"cls rel mtv hide\"></span></td><td style=\"position:rel\"><div class=\"rfa\"><a class=\"q\" href=\"/arbitration-calculator/2026/all/all/all/matthew-kessel\" title=\"Arbitration Eligible\"><img alt=\"Arbitration Eligible\" height=\"13\" src=\"https://cdn2.capfriendly.com/images/icons/players/arbh.svg\" style=\"margin:0 3px -2px 0\" width=\"11\"/></a>RFA</div></td><td style=\"position:rel\"></td><td style=\"position:rel\"></td><td style=\"position:rel\"></td></tr><tr><td><a href=\"/players/hunter-skinner\">Skinner, Hunter</a></td><td class=\"tm_yrr hide\">0 RFA</td><td><span class=\"con_d\"></span></td><td><span class=\"con_d\">RD</span></td><td class=\"\">Minor</td><td><a href=\"/transactions/players/hunter-skinner\">Trade</a></td><td><span class=\"q\" title=\"Apr. 29, 2001\">23</span></td><td>-</td><td style=\"position:rel\"><div class=\"rfa\">RFA</div></td><td style=\"position:rel\"></td><td style=\"position:rel\"></td><td style=\"position:rel\"></td><td style=\"position:rel\"></td><td style=\"position:rel\"></td></tr><tr><td><a href=\"/players/wyatt-kalynuk\">Kalynuk, Wyatt</a></td><td class=\"tm_yrr hide\">0 UFA</td><td><span class=\"con_d\"></span></td><td><span class=\"con_d\">LD</span></td><td class=\"\">Minor</td><td><a href=\"/transactions/players/wyatt-kalynuk\">Signed</a></td><td><span class=\"q\" title=\"Apr. 14, 1997\">27</span></td><td>-</td><td style=\"position:rel\"><div class=\"ufa\">UFA</div></td><td style=\"position:rel\"></td><td style=\"position:rel\"></td><td style=\"position:rel\"></td><td style=\"position:rel\"></td><td style=\"position:rel\"></td></tr><tr><td><a href=\"/players/calle-rosen\">Rosén, Calle</a></td><td class=\"tm_yrr hide\">0 UFA</td><td><span class=\"con_d\"></span></td><td><span class=\"con_d\">LD</span></td><td class=\"\">Minor</td><td><a href=\"/transactions/players/calle-rosen\">Signed</a></td><td><span class=\"q\" title=\"Feb. 2, 1994\">30</span></td><td>-</td><td style=\"position:rel\"><div class=\"ufa\">UFA</div></td><td style=\"position:rel\"></td><td style=\"position:rel\"></td><td style=\"position:rel\"></td><td style=\"position:rel\"></td><td style=\"position:rel\"></td></tr></tbody><tfoot><tr><td>TOTAL</td><td class=\"tm_yrr hide\"></td><td></td><td></td><td></td><td></td><td><span class=\"q\" title=\"Average Age\">23.1</span></td><td>-</td><td><span class=\"cap team_salary_data mtv\">$6,863,333</span><span class=\"aav team_salary_data hide mtv\">$7,120,833</span><span class=\"sal team_salary_data hide mtv\">$1,362,500</span><span class=\"bsal team_salary_data hide mtv\">$1,362,500</span><span class=\"pbonus team_salary_data hide mtv\">$217,500</span><span class=\"sbonus team_salary_data hide mtv\">$607,500</span></td><td><span class=\"cap team_salary_data mtv\">$5,953,333</span><span class=\"aav team_salary_data hide mtv\">$6,170,833</span><span class=\"sal team_salary_data hide mtv\">$1,280,000</span><span class=\"bsal team_salary_data hide mtv\">$1,280,000</span><span class=\"pbonus team_salary_data hide mtv\">$217,500</span><span class=\"sbonus team_salary_data hide mtv\">$427,500</span></td><td><span class=\"cap team_salary_data mtv\">$2,590,833</span><span class=\"aav team_salary_data hide mtv\">$2,670,833</span><span class=\"sal team_salary_data hide mtv\">$247,500</span><span class=\"bsal team_salary_data hide mtv\">$247,500</span><span class=\"pbonus team_salary_data hide mtv\">$80,000</span><span class=\"sbonus team_salary_data hide mtv\">$95,000</span></td><td></td><td></td><td></td></tr></tfoot></table>, <table class=\"cf_teamProfileRosterSection__table cf_table__collapsiblePlayerColumn cf_table__default cf_table__fixed cf_table__stickyFirstColumn\"><thead><tr><th>Goalies (3)</th><th class=\"tm_yrr hide\" style=\"width:80px\">Years Remaining</th><th>Terms</th><th>POS</th><th>Status</th><th>Acquired</th><th>Age</th><th class=\"q\" title=\"Percentage of the current salary cap\">Cap%</th><th>2024-25</th><th>2025-26</th><th>2026-27</th><th>2027-28</th><th>2028-29</th><th>2029-30</th></tr></thead><tbody><tr><td><a href=\"/players/vadim-zherenko\">Zherenko, Vadim</a></td><td class=\"tm_yrr hide\">1 RFA</td><td><span class=\"con_d\"><span class=\"q mr3\" title=\"Entry-Level Contract\">ELC</span> <a href=\"/waivers-calculator/vadim-zherenko#results\"><span class=\"q\" title=\"Waivers Exempt\"><img alt=\"Waivers Exempt\" height=\"13\" src=\"https://cdn2.capfriendly.com/images/icons/players/w_e.svg\" style=\"margin:0 3px -2px 0\" width=\"13\"/></span></a></span></td><td><span class=\"con_d\">G</span></td><td class=\"\">Minor</td><td><a href=\"/transactions/players/vadim-zherenko\"><span class=\"q\" title=\"2019 Round 7, #208 Overall\">Draft</span></a></td><td><span class=\"q\" title=\"Mar. 15, 2001\">23</span></td><td>-</td><td style=\"position:rel\"><span class=\"twoway cap rel mtv\">$846,667</span><span class=\"twoway aav rel mtv hide\">$846,667</span><span class=\"twoway sal rel mtv hide\">$70,000</span><span class=\"twoway bsal rel mtv hide\">$70,000</span><span class=\"twoway pbonus rel mtv hide\">$0</span><span class=\"twoway sbonus rel mtv hide\">$80,000</span><span class=\"twoway cls rel mtv hide\"></span></td><td style=\"position:rel\"><div class=\"rfa\">RFA</div></td><td style=\"position:rel\"></td><td style=\"position:rel\"></td><td style=\"position:rel\"></td><td style=\"position:rel\"></td></tr><tr><td><a href=\"/players/will-cranley\">Cranley, Will</a></td><td class=\"tm_yrr hide\">1 RFA</td><td><span class=\"con_d\"><span class=\"q mr3\" title=\"Entry-Level Contract\">ELC</span> <a href=\"/waivers-calculator/will-cranley#results\"><span class=\"q\" title=\"Waivers Exempt\"><img alt=\"Waivers Exempt\" height=\"13\" src=\"https://cdn2.capfriendly.com/images/icons/players/w_e.svg\" style=\"margin:0 3px -2px 0\" width=\"13\"/></span></a></span></td><td><span class=\"con_d\">G</span></td><td class=\"\">Minor</td><td><a href=\"/transactions/players/will-cranley\"><span class=\"q\" title=\"2020 Round 6, #163 Overall\">Draft</span></a></td><td><span class=\"q\" title=\"Feb. 26, 2002\">22</span></td><td>-</td><td style=\"position:rel\"><span class=\"twoway cap rel mtv\">$841,667</span><span class=\"twoway aav rel mtv hide\">$841,667</span><span class=\"twoway sal rel mtv hide\">$80,000</span><span class=\"twoway bsal rel mtv hide\">$80,000</span><span class=\"twoway pbonus rel mtv hide\">$0</span><span class=\"twoway sbonus rel mtv hide\">$75,000</span><span class=\"twoway cls rel mtv hide\"></span></td><td style=\"position:rel\"><div class=\"rfa\">RFA</div></td><td style=\"position:rel\"></td><td style=\"position:rel\"></td><td style=\"position:rel\"></td><td style=\"position:rel\"></td></tr><tr><td><a href=\"/players/colten-ellis\">Ellis, Colten</a></td><td class=\"tm_yrr hide\">1 RFA</td><td><span class=\"con_d\"> <a href=\"/waivers-calculator/colten-ellis#results\"><span class=\"q\" title=\"Waivers Exempt\"><img alt=\"Waivers Exempt\" height=\"13\" src=\"https://cdn2.capfriendly.com/images/icons/players/w_e.svg\" style=\"margin:0 3px -2px 0\" width=\"13\"/></span></a><span class=\"q\" title=\"The contract details displayed have not yet been confirmed and are subject to change\"><img alt=\"Unconfirmed Information\" height=\"13\" src=\"https://cdn2.capfriendly.com/images/icons/players/alert.svg\" style=\"margin:0 0 -2px 3px\" width=\"13\"/></span></span></td><td><span class=\"con_d\">G</span></td><td class=\"\">Minor</td><td><a href=\"/transactions/players/colten-ellis\"><span class=\"q\" title=\"2019 Round 3, #93 Overall\">Draft</span></a></td><td><span class=\"q\" title=\"Oct. 5, 2000\">23</span></td><td>-</td><td style=\"position:rel\"><span class=\"twoway cap rel mtv\">$775,000</span><span class=\"twoway aav rel mtv hide\">$775,000</span><span class=\"twoway sal rel mtv hide\">$85,000</span><span class=\"twoway bsal rel mtv hide\">$85,000</span><span class=\"twoway pbonus rel mtv hide\">$0</span><span class=\"twoway sbonus rel mtv hide\">$0</span><span class=\"twoway cls rel mtv hide\"></span></td><td style=\"position:rel\"><div class=\"rfa\">RFA</div></td><td style=\"position:rel\"></td><td style=\"position:rel\"></td><td style=\"position:rel\"></td><td style=\"position:rel\"></td></tr></tbody><tfoot><tr><td>TOTAL</td><td class=\"tm_yrr hide\"></td><td></td><td></td><td></td><td></td><td><span class=\"q\" title=\"Average Age\">22.7</span></td><td>-</td><td><span class=\"cap team_salary_data mtv\">$2,463,334</span><span class=\"aav team_salary_data hide mtv\">$2,463,334</span><span class=\"sal team_salary_data hide mtv\">$235,000</span><span class=\"bsal team_salary_data hide mtv\">$235,000</span><span class=\"pbonus team_salary_data hide mtv\">$0</span><span class=\"sbonus team_salary_data hide mtv\">$155,000</span></td><td></td><td></td><td></td><td></td><td></td></tr></tfoot></table>]\n"
     ]
    }
   ],
   "source": [
    "print(table)"
   ]
  },
  {
   "cell_type": "code",
   "execution_count": 52,
   "metadata": {},
   "outputs": [
    {
     "name": "stderr",
     "output_type": "stream",
     "text": [
      "C:\\Users\\nsofi\\AppData\\Local\\Temp\\ipykernel_33384\\1387399994.py:1: FutureWarning: Passing literal html to 'read_html' is deprecated and will be removed in a future version. To read from a literal string, wrap it in a 'StringIO' object.\n",
      "  forwards_df = pd.read_html(str(table),header=0, index_col = 0, na_values=[\"-\"])[0]\n"
     ]
    }
   ],
   "source": [
    "forwards_df = pd.read_html(str(table),header=0, index_col = 0, na_values=[\"-\"])[0]"
   ]
  },
  {
   "cell_type": "code",
   "execution_count": 49,
   "metadata": {},
   "outputs": [
    {
     "name": "stdout",
     "output_type": "stream",
     "text": [
      "Index(['Years Remaining', 'Terms', 'POS', 'Status', 'Acquired', 'Age', 'Cap%',\n",
      "       '2024-25', '2025-26', '2026-27', '2027-28', '2028-29', '2029-30'],\n",
      "      dtype='object')\n"
     ]
    }
   ],
   "source": [
    "print(forwards_df.columns)"
   ]
  },
  {
   "cell_type": "markdown",
   "metadata": {},
   "source": [
    "Everything looks good and just need to clean the year columns where their cap hits are listed as in the df, it puts all their yearly cap hit inside each cell which is not what we want. So gonna create a function to apply on the dataframe for each year, and then apply the respective functions to the 2024-24, 2025-26, etc yearly header columns."
   ]
  },
  {
   "cell_type": "code",
   "execution_count": 53,
   "metadata": {},
   "outputs": [],
   "source": [
    "def conditional_splitx(value):\n",
    "    if isinstance(value, str) and value.startswith('$'):\n",
    "        # Split the value by '$' and keep the first part along with the first '$'\n",
    "        first_dollar_index = value.find('$', 1)\n",
    "        return value[:first_dollar_index]\n",
    "    return value\n",
    "\n",
    "# List of columns to apply the function to\n",
    "columns_to_clean = ['2024-25', '2025-26','2026-27','2027-28','2028-29','2029-30']\n",
    "\n",
    "# Apply the function to each column in the list\n",
    "for column in columns_to_clean:\n",
    "    forwards_df[column] = forwards_df[column].apply(conditional_splitx)\n",
    "\n",
    "\n",
    "# Apply the function and update the '2024-25' column\n",
    "#forwards_df['2024-25'] = forwards_df['2024-25'].apply(conditional_splitx)"
   ]
  },
  {
   "cell_type": "code",
   "execution_count": 54,
   "metadata": {},
   "outputs": [],
   "source": [
    "forwards_df.to_csv('Cap Friendly Blues Forwards.csv')\n"
   ]
  },
  {
   "cell_type": "markdown",
   "metadata": {},
   "source": [
    "Forwards are scraped. Now time to scrape defensemen."
   ]
  },
  {
   "cell_type": "code",
   "execution_count": 71,
   "metadata": {},
   "outputs": [
    {
     "name": "stdout",
     "output_type": "stream",
     "text": [
      "Classes of each table:\n",
      "['cf_teamProfile__draftTable', 'cf_table__default', 'cf_table__fixed', 'cf_table__stickyFirstColumn']\n",
      "['tbl', 'fixed']\n",
      "['tbl', 'fixed']\n",
      "['cf_teamProfileRosterSection__table', 'cf_table__collapsiblePlayerColumn', 'cf_table__default', 'cf_table__fixed', 'cf_table__stickyFirstColumn']\n",
      "['cf_teamProfileRosterSection__table', 'cf_table__collapsiblePlayerColumn', 'cf_table__default', 'cf_table__fixed', 'cf_table__stickyFirstColumn']\n",
      "['cf_teamProfileRosterSection__table', 'cf_table__collapsiblePlayerColumn', 'cf_table__default', 'cf_table__fixed', 'cf_table__stickyFirstColumn']\n",
      "['cf_teamProfileRosterSection__table', 'cf_table__collapsiblePlayerColumn', 'cf_table__default', 'cf_table__fixed', 'cf_table__stickyFirstColumn']\n",
      "['cf_teamProfileStats__table', 'cf_table__collapsiblePlayerColumn', 'cf_table__fixed', 'rel']\n",
      "['cf_teamProfileStats__table', 'cf_table__collapsiblePlayerColumn', 'cf_table__fixed', 'rel']\n",
      "['cf_teamProfileStats__table', 'cf_table__collapsiblePlayerColumn', 'cf_table__fixed', 'rel']\n",
      "['cf_teamProfileRosterSection__table', 'cf_table__collapsiblePlayerColumn', 'cf_table__default', 'cf_table__fixed', 'cf_table__stickyFirstColumn']\n",
      "['cf_teamProfileRosterSection__table', 'cf_table__collapsiblePlayerColumn', 'cf_table__default', 'cf_table__fixed', 'cf_table__stickyFirstColumn']\n",
      "['cf_teamProfileRosterSection__table', 'cf_table__collapsiblePlayerColumn', 'cf_table__default', 'cf_table__fixed', 'cf_table__stickyFirstColumn']\n",
      "None\n"
     ]
    }
   ],
   "source": [
    "print('Classes of each table:')\n",
    "for table in soup.find_all('table'):\n",
    "    print(table.get('class'))"
   ]
  },
  {
   "cell_type": "code",
   "execution_count": 77,
   "metadata": {},
   "outputs": [
    {
     "name": "stderr",
     "output_type": "stream",
     "text": [
      "C:\\Users\\nsofi\\AppData\\Local\\Temp\\ipykernel_33384\\460404493.py:14: FutureWarning: Passing literal html to 'read_html' is deprecated and will be removed in a future version. To read from a literal string, wrap it in a 'StringIO' object.\n",
      "  df_defensemen = pd.read_html(str(defensemen_table))[0]\n"
     ]
    }
   ],
   "source": [
    "tables = soup.find_all('table', class_=['cf_teamProfileRosterSection__table', \n",
    "                                        'cf_table__collapsiblePlayerColumn', \n",
    "                                        'cf_table__default', \n",
    "                                        'cf_table__fixed', \n",
    "                                        'cf_table__stickyFirstColumn'])\n",
    "\n",
    "# Get the fifth instance of the table\n",
    "if len(tables) > 4:\n",
    "    defensemen_table = tables[2]  # index 4 for the fifth instance\n",
    "else:\n",
    "    raise ValueError(\"The specified table class does not have a fifth instance.\")\n",
    "\n",
    "# Convert the table to a DataFrame\n",
    "df_defensemen = pd.read_html(str(defensemen_table))[0]"
   ]
  },
  {
   "cell_type": "code",
   "execution_count": 78,
   "metadata": {},
   "outputs": [
    {
     "name": "stdout",
     "output_type": "stream",
     "text": [
      "  Defense (6 - $25,450,000) Years Remaining Terms    POS Status Acquired  \\\n",
      "0         Faulk, Justin \"A\"           3 UFA   NTC     RD    NHL    Trade   \n",
      "1               Krug, Torey           3 UFA   NTC     LD    NHL   Signed   \n",
      "2       Parayko, Colton \"A\"           6 UFA   NTC     RD    NHL    Draft   \n",
      "3               Leddy, Nick           2 UFA   NTC     LD    NHL   Signed   \n",
      "4         Perunovich, Scott           1 RFA   NaN     LD    NHL    Draft   \n",
      "5             Tucker, Tyler           1 RFA   NaN  LD/RD    NHL    Draft   \n",
      "6          Scandella, Marco           0 UFA   NaN     LD    NHL    Trade   \n",
      "7                     TOTAL             NaN   NaN    NaN    NaN      NaN   \n",
      "\n",
      "    Age  Cap%                                           2024-25  \\\n",
      "0  32.0   7.4   $6,500,000$6,500,000$4,750,000$4,750,000$0$0NTC   \n",
      "1  33.0   7.4   $6,500,000$6,500,000$8,500,000$8,500,000$0$0NTC   \n",
      "2  31.0   7.4   $6,500,000$6,500,000$8,000,000$8,000,000$0$0NTC   \n",
      "3  33.0   4.5   $4,000,000$4,000,000$3,500,000$3,500,000$0$0NTC   \n",
      "4  25.0   1.3      $1,150,000$1,150,000$1,150,000$1,150,000$0$0   \n",
      "5  24.0   0.9              $800,000$800,000$800,000$800,000$0$0   \n",
      "6  34.0   NaN                                               UFA   \n",
      "7  30.3  28.9  $25,450,000$25,450,000$26,700,000$26,700,000$0$0   \n",
      "\n",
      "                                             2025-26  \\\n",
      "0  $6,500,000$6,500,000$4,500,000$4,500,000$0$0M-NTC   \n",
      "1  $6,500,000$6,500,000$6,500,000$6,500,000$0$0M-NTC   \n",
      "2    $6,500,000$6,500,000$8,000,000$8,000,000$0$0NTC   \n",
      "3  $4,000,000$4,000,000$3,000,000$3,000,000$0$0M-NTC   \n",
      "4                                                RFA   \n",
      "5                                                RFA   \n",
      "6                                                NaN   \n",
      "7   $23,500,000$23,500,000$22,000,000$22,000,000$0$0   \n",
      "\n",
      "                                             2026-27  \\\n",
      "0  $6,500,000$6,500,000$4,500,000$4,500,000$0$0M-NTC   \n",
      "1  $6,500,000$6,500,000$6,000,000$6,000,000$0$0M-NTC   \n",
      "2    $6,500,000$6,500,000$6,350,000$6,350,000$0$0NTC   \n",
      "3                                                UFA   \n",
      "4                                                NaN   \n",
      "5                                                NaN   \n",
      "6                                                NaN   \n",
      "7   $19,500,000$19,500,000$16,850,000$16,850,000$0$0   \n",
      "\n",
      "                                           2027-28  \\\n",
      "0                                              UFA   \n",
      "1                                              UFA   \n",
      "2  $6,500,000$6,500,000$4,800,000$4,800,000$0$0NTC   \n",
      "3                                              NaN   \n",
      "4                                              NaN   \n",
      "5                                              NaN   \n",
      "6                                              NaN   \n",
      "7     $6,500,000$6,500,000$4,800,000$4,800,000$0$0   \n",
      "\n",
      "                                             2028-29  \\\n",
      "0                                                NaN   \n",
      "1                                                NaN   \n",
      "2  $6,500,000$6,500,000$4,800,000$4,800,000$0$0M-NTC   \n",
      "3                                                NaN   \n",
      "4                                                NaN   \n",
      "5                                                NaN   \n",
      "6                                                NaN   \n",
      "7       $6,500,000$6,500,000$4,800,000$4,800,000$0$0   \n",
      "\n",
      "                                             2029-30  \n",
      "0                                                NaN  \n",
      "1                                                NaN  \n",
      "2  $6,500,000$6,500,000$4,800,000$4,800,000$0$0M-NTC  \n",
      "3                                                NaN  \n",
      "4                                                NaN  \n",
      "5                                                NaN  \n",
      "6                                                NaN  \n",
      "7       $6,500,000$6,500,000$4,800,000$4,800,000$0$0  \n"
     ]
    }
   ],
   "source": [
    "print(df_defensemen)"
   ]
  },
  {
   "cell_type": "code",
   "execution_count": 79,
   "metadata": {},
   "outputs": [
    {
     "data": {
      "text/html": [
       "<div>\n",
       "<style scoped>\n",
       "    .dataframe tbody tr th:only-of-type {\n",
       "        vertical-align: middle;\n",
       "    }\n",
       "\n",
       "    .dataframe tbody tr th {\n",
       "        vertical-align: top;\n",
       "    }\n",
       "\n",
       "    .dataframe thead th {\n",
       "        text-align: right;\n",
       "    }\n",
       "</style>\n",
       "<table border=\"1\" class=\"dataframe\">\n",
       "  <thead>\n",
       "    <tr style=\"text-align: right;\">\n",
       "      <th></th>\n",
       "      <th>Defense (6 - $25,450,000)</th>\n",
       "      <th>Years Remaining</th>\n",
       "      <th>Terms</th>\n",
       "      <th>POS</th>\n",
       "      <th>Status</th>\n",
       "      <th>Acquired</th>\n",
       "      <th>Age</th>\n",
       "      <th>Cap%</th>\n",
       "      <th>2024-25</th>\n",
       "      <th>2025-26</th>\n",
       "      <th>2026-27</th>\n",
       "      <th>2027-28</th>\n",
       "      <th>2028-29</th>\n",
       "      <th>2029-30</th>\n",
       "    </tr>\n",
       "  </thead>\n",
       "  <tbody>\n",
       "    <tr>\n",
       "      <th>0</th>\n",
       "      <td>Faulk, Justin \"A\"</td>\n",
       "      <td>3 UFA</td>\n",
       "      <td>NTC</td>\n",
       "      <td>RD</td>\n",
       "      <td>NHL</td>\n",
       "      <td>Trade</td>\n",
       "      <td>32.0</td>\n",
       "      <td>7.4</td>\n",
       "      <td>$6,500,000$6,500,000$4,750,000$4,750,000$0$0NTC</td>\n",
       "      <td>$6,500,000$6,500,000$4,500,000$4,500,000$0$0M-NTC</td>\n",
       "      <td>$6,500,000$6,500,000$4,500,000$4,500,000$0$0M-NTC</td>\n",
       "      <td>UFA</td>\n",
       "      <td>NaN</td>\n",
       "      <td>NaN</td>\n",
       "    </tr>\n",
       "    <tr>\n",
       "      <th>1</th>\n",
       "      <td>Krug, Torey</td>\n",
       "      <td>3 UFA</td>\n",
       "      <td>NTC</td>\n",
       "      <td>LD</td>\n",
       "      <td>NHL</td>\n",
       "      <td>Signed</td>\n",
       "      <td>33.0</td>\n",
       "      <td>7.4</td>\n",
       "      <td>$6,500,000$6,500,000$8,500,000$8,500,000$0$0NTC</td>\n",
       "      <td>$6,500,000$6,500,000$6,500,000$6,500,000$0$0M-NTC</td>\n",
       "      <td>$6,500,000$6,500,000$6,000,000$6,000,000$0$0M-NTC</td>\n",
       "      <td>UFA</td>\n",
       "      <td>NaN</td>\n",
       "      <td>NaN</td>\n",
       "    </tr>\n",
       "    <tr>\n",
       "      <th>2</th>\n",
       "      <td>Parayko, Colton \"A\"</td>\n",
       "      <td>6 UFA</td>\n",
       "      <td>NTC</td>\n",
       "      <td>RD</td>\n",
       "      <td>NHL</td>\n",
       "      <td>Draft</td>\n",
       "      <td>31.0</td>\n",
       "      <td>7.4</td>\n",
       "      <td>$6,500,000$6,500,000$8,000,000$8,000,000$0$0NTC</td>\n",
       "      <td>$6,500,000$6,500,000$8,000,000$8,000,000$0$0NTC</td>\n",
       "      <td>$6,500,000$6,500,000$6,350,000$6,350,000$0$0NTC</td>\n",
       "      <td>$6,500,000$6,500,000$4,800,000$4,800,000$0$0NTC</td>\n",
       "      <td>$6,500,000$6,500,000$4,800,000$4,800,000$0$0M-NTC</td>\n",
       "      <td>$6,500,000$6,500,000$4,800,000$4,800,000$0$0M-NTC</td>\n",
       "    </tr>\n",
       "    <tr>\n",
       "      <th>3</th>\n",
       "      <td>Leddy, Nick</td>\n",
       "      <td>2 UFA</td>\n",
       "      <td>NTC</td>\n",
       "      <td>LD</td>\n",
       "      <td>NHL</td>\n",
       "      <td>Signed</td>\n",
       "      <td>33.0</td>\n",
       "      <td>4.5</td>\n",
       "      <td>$4,000,000$4,000,000$3,500,000$3,500,000$0$0NTC</td>\n",
       "      <td>$4,000,000$4,000,000$3,000,000$3,000,000$0$0M-NTC</td>\n",
       "      <td>UFA</td>\n",
       "      <td>NaN</td>\n",
       "      <td>NaN</td>\n",
       "      <td>NaN</td>\n",
       "    </tr>\n",
       "    <tr>\n",
       "      <th>4</th>\n",
       "      <td>Perunovich, Scott</td>\n",
       "      <td>1 RFA</td>\n",
       "      <td>NaN</td>\n",
       "      <td>LD</td>\n",
       "      <td>NHL</td>\n",
       "      <td>Draft</td>\n",
       "      <td>25.0</td>\n",
       "      <td>1.3</td>\n",
       "      <td>$1,150,000$1,150,000$1,150,000$1,150,000$0$0</td>\n",
       "      <td>RFA</td>\n",
       "      <td>NaN</td>\n",
       "      <td>NaN</td>\n",
       "      <td>NaN</td>\n",
       "      <td>NaN</td>\n",
       "    </tr>\n",
       "  </tbody>\n",
       "</table>\n",
       "</div>"
      ],
      "text/plain": [
       "  Defense (6 - $25,450,000) Years Remaining Terms POS Status Acquired   Age  \\\n",
       "0         Faulk, Justin \"A\"           3 UFA   NTC  RD    NHL    Trade  32.0   \n",
       "1               Krug, Torey           3 UFA   NTC  LD    NHL   Signed  33.0   \n",
       "2       Parayko, Colton \"A\"           6 UFA   NTC  RD    NHL    Draft  31.0   \n",
       "3               Leddy, Nick           2 UFA   NTC  LD    NHL   Signed  33.0   \n",
       "4         Perunovich, Scott           1 RFA   NaN  LD    NHL    Draft  25.0   \n",
       "\n",
       "   Cap%                                          2024-25  \\\n",
       "0   7.4  $6,500,000$6,500,000$4,750,000$4,750,000$0$0NTC   \n",
       "1   7.4  $6,500,000$6,500,000$8,500,000$8,500,000$0$0NTC   \n",
       "2   7.4  $6,500,000$6,500,000$8,000,000$8,000,000$0$0NTC   \n",
       "3   4.5  $4,000,000$4,000,000$3,500,000$3,500,000$0$0NTC   \n",
       "4   1.3     $1,150,000$1,150,000$1,150,000$1,150,000$0$0   \n",
       "\n",
       "                                             2025-26  \\\n",
       "0  $6,500,000$6,500,000$4,500,000$4,500,000$0$0M-NTC   \n",
       "1  $6,500,000$6,500,000$6,500,000$6,500,000$0$0M-NTC   \n",
       "2    $6,500,000$6,500,000$8,000,000$8,000,000$0$0NTC   \n",
       "3  $4,000,000$4,000,000$3,000,000$3,000,000$0$0M-NTC   \n",
       "4                                                RFA   \n",
       "\n",
       "                                             2026-27  \\\n",
       "0  $6,500,000$6,500,000$4,500,000$4,500,000$0$0M-NTC   \n",
       "1  $6,500,000$6,500,000$6,000,000$6,000,000$0$0M-NTC   \n",
       "2    $6,500,000$6,500,000$6,350,000$6,350,000$0$0NTC   \n",
       "3                                                UFA   \n",
       "4                                                NaN   \n",
       "\n",
       "                                           2027-28  \\\n",
       "0                                              UFA   \n",
       "1                                              UFA   \n",
       "2  $6,500,000$6,500,000$4,800,000$4,800,000$0$0NTC   \n",
       "3                                              NaN   \n",
       "4                                              NaN   \n",
       "\n",
       "                                             2028-29  \\\n",
       "0                                                NaN   \n",
       "1                                                NaN   \n",
       "2  $6,500,000$6,500,000$4,800,000$4,800,000$0$0M-NTC   \n",
       "3                                                NaN   \n",
       "4                                                NaN   \n",
       "\n",
       "                                             2029-30  \n",
       "0                                                NaN  \n",
       "1                                                NaN  \n",
       "2  $6,500,000$6,500,000$4,800,000$4,800,000$0$0M-NTC  \n",
       "3                                                NaN  \n",
       "4                                                NaN  "
      ]
     },
     "execution_count": 79,
     "metadata": {},
     "output_type": "execute_result"
    }
   ],
   "source": [
    "df_defensemen.head()"
   ]
  },
  {
   "cell_type": "code",
   "execution_count": 80,
   "metadata": {},
   "outputs": [],
   "source": [
    "#Function to clean the defense table\n",
    "# List of columns to apply the function to\n",
    "columns_to_clean = ['2024-25', '2025-26','2026-27','2027-28','2028-29','2029-30']\n",
    "\n",
    "# Apply the function to each column in the list\n",
    "for column in columns_to_clean:\n",
    "    df_defensemen[column] = df_defensemen[column].apply(conditional_splitx)"
   ]
  },
  {
   "cell_type": "code",
   "execution_count": 82,
   "metadata": {},
   "outputs": [],
   "source": [
    "df_defensemen.to_csv('Cap Friendly Blues Defense.csv')"
   ]
  },
  {
   "cell_type": "markdown",
   "metadata": {},
   "source": [
    "Now that we have forwards and defense, time for goalies"
   ]
  },
  {
   "cell_type": "code",
   "execution_count": 83,
   "metadata": {},
   "outputs": [
    {
     "name": "stderr",
     "output_type": "stream",
     "text": [
      "C:\\Users\\nsofi\\AppData\\Local\\Temp\\ipykernel_33384\\273164630.py:14: FutureWarning: Passing literal html to 'read_html' is deprecated and will be removed in a future version. To read from a literal string, wrap it in a 'StringIO' object.\n",
      "  goalies_df = pd.read_html(str(goalies_table))[0]\n"
     ]
    }
   ],
   "source": [
    "tables = soup.find_all('table', class_=['cf_teamProfileRosterSection__table', \n",
    "                                        'cf_table__collapsiblePlayerColumn', \n",
    "                                        'cf_table__default', \n",
    "                                        'cf_table__fixed', \n",
    "                                        'cf_table__stickyFirstColumn'])\n",
    "\n",
    "# Get the fifth instance of the table\n",
    "if len(tables) > 4:\n",
    "    goalies_table = tables[3]  # index 4 for the fifth instance\n",
    "else:\n",
    "    raise ValueError(\"The specified table class does not have a fifth instance.\")\n",
    "\n",
    "# Convert the table to a DataFrame\n",
    "goalies_df = pd.read_html(str(goalies_table))[0]"
   ]
  },
  {
   "cell_type": "code",
   "execution_count": 85,
   "metadata": {},
   "outputs": [],
   "source": [
    "#Function to clean the goalies table\n",
    "# List of columns to apply the function to\n",
    "columns_to_clean = ['2024-25', '2025-26','2026-27','2027-28','2028-29','2029-30']\n",
    "\n",
    "# Apply the function to each column in the list\n",
    "for column in columns_to_clean:\n",
    "    goalies_df[column] = goalies_df[column].apply(conditional_splitx)"
   ]
  },
  {
   "cell_type": "code",
   "execution_count": 86,
   "metadata": {},
   "outputs": [],
   "source": [
    "goalies_df.to_csv('Cap Friendly Blues Goalies.csv')"
   ]
  },
  {
   "cell_type": "markdown",
   "metadata": {},
   "source": [
    "Forwards, Defense, and Goalies Scraped. Now time for the Season Opening Reserve"
   ]
  },
  {
   "cell_type": "code",
   "execution_count": 87,
   "metadata": {},
   "outputs": [
    {
     "name": "stderr",
     "output_type": "stream",
     "text": [
      "C:\\Users\\nsofi\\AppData\\Local\\Temp\\ipykernel_33384\\3016402215.py:14: FutureWarning: Passing literal html to 'read_html' is deprecated and will be removed in a future version. To read from a literal string, wrap it in a 'StringIO' object.\n",
      "  seasonOpenIR_df = pd.read_html(str(seasonOpenIR_table))[0]\n"
     ]
    }
   ],
   "source": [
    "tables = soup.find_all('table', class_=['cf_teamProfileRosterSection__table', \n",
    "                                        'cf_table__collapsiblePlayerColumn', \n",
    "                                        'cf_table__default', \n",
    "                                        'cf_table__fixed', \n",
    "                                        'cf_table__stickyFirstColumn'])\n",
    "\n",
    "# Get the fifth instance of the table\n",
    "if len(tables) > 4:\n",
    "    seasonOpenIR_table = tables[4]  # index 4 for the fifth instance\n",
    "else:\n",
    "    raise ValueError(\"The specified table class does not have a fifth instance.\")\n",
    "\n",
    "# Convert the table to a DataFrame\n",
    "seasonOpenIR_df = pd.read_html(str(seasonOpenIR_table))[0]"
   ]
  },
  {
   "cell_type": "code",
   "execution_count": 89,
   "metadata": {},
   "outputs": [],
   "source": [
    "#Function to clean the season open IR table\n",
    "# List of columns to apply the function to\n",
    "columns_to_clean = ['2024-25', '2025-26','2026-27','2027-28','2028-29','2029-30']\n",
    "\n",
    "# Apply the function to each column in the list\n",
    "for column in columns_to_clean:\n",
    "    seasonOpenIR_df[column] = seasonOpenIR_df[column].apply(conditional_splitx)"
   ]
  },
  {
   "cell_type": "code",
   "execution_count": 90,
   "metadata": {},
   "outputs": [],
   "source": [
    "seasonOpenIR_df.to_csv('Cap Friendly Blues Season Opening IR.csv')"
   ]
  },
  {
   "cell_type": "markdown",
   "metadata": {},
   "source": [
    "Non-Roster Time. First up, Forwards"
   ]
  },
  {
   "cell_type": "code",
   "execution_count": 93,
   "metadata": {},
   "outputs": [
    {
     "name": "stderr",
     "output_type": "stream",
     "text": [
      "C:\\Users\\nsofi\\AppData\\Local\\Temp\\ipykernel_33384\\2126343547.py:14: FutureWarning: Passing literal html to 'read_html' is deprecated and will be removed in a future version. To read from a literal string, wrap it in a 'StringIO' object.\n",
      "  forwardsNR_df = pd.read_html(str(forwardsNR_table))[0]\n"
     ]
    }
   ],
   "source": [
    "tables = soup.find_all('table', class_=['cf_teamProfileRosterSection__table', \n",
    "                                        'cf_table__collapsiblePlayerColumn', \n",
    "                                        'cf_table__default', \n",
    "                                        'cf_table__fixed', \n",
    "                                        'cf_table__stickyFirstColumn'])\n",
    "\n",
    "# Get the fifth instance of the table\n",
    "if len(tables) > 4:\n",
    "    forwardsNR_table = tables[8]  # index 4 for the fifth instance\n",
    "else:\n",
    "    raise ValueError(\"The specified table class does not have a fifth instance.\")\n",
    "\n",
    "# Convert the table to a DataFrame\n",
    "forwardsNR_df = pd.read_html(str(forwardsNR_table))[0]"
   ]
  },
  {
   "cell_type": "code",
   "execution_count": 95,
   "metadata": {},
   "outputs": [],
   "source": [
    "#Function to clean the season open IR table\n",
    "# List of columns to apply the function to\n",
    "columns_to_clean = ['2024-25', '2025-26','2026-27','2027-28','2028-29','2029-30']\n",
    "\n",
    "# Apply the function to each column in the list\n",
    "for column in columns_to_clean:\n",
    "    forwardsNR_df[column] = forwardsNR_df[column].apply(conditional_splitx)"
   ]
  },
  {
   "cell_type": "code",
   "execution_count": 96,
   "metadata": {},
   "outputs": [],
   "source": [
    "forwardsNR_df.to_csv('Cap Friendly Blues Non-Roster Forwards.csv')"
   ]
  },
  {
   "cell_type": "markdown",
   "metadata": {},
   "source": [
    "Non-Roster Defense"
   ]
  },
  {
   "cell_type": "code",
   "execution_count": 97,
   "metadata": {},
   "outputs": [
    {
     "name": "stderr",
     "output_type": "stream",
     "text": [
      "C:\\Users\\nsofi\\AppData\\Local\\Temp\\ipykernel_33384\\2771656481.py:14: FutureWarning: Passing literal html to 'read_html' is deprecated and will be removed in a future version. To read from a literal string, wrap it in a 'StringIO' object.\n",
      "  defenseNR_df = pd.read_html(str(defenseNR_table))[0]\n"
     ]
    }
   ],
   "source": [
    "tables = soup.find_all('table', class_=['cf_teamProfileRosterSection__table', \n",
    "                                        'cf_table__collapsiblePlayerColumn', \n",
    "                                        'cf_table__default', \n",
    "                                        'cf_table__fixed', \n",
    "                                        'cf_table__stickyFirstColumn'])\n",
    "\n",
    "# Get the fifth instance of the table\n",
    "if len(tables) > 4:\n",
    "    defenseNR_table = tables[9]  # index 4 for the fifth instance\n",
    "else:\n",
    "    raise ValueError(\"The specified table class does not have a fifth instance.\")\n",
    "\n",
    "# Convert the table to a DataFrame\n",
    "defenseNR_df = pd.read_html(str(defenseNR_table))[0]\n",
    "\n",
    "#Function to clean the season open IR table\n",
    "# List of columns to apply the function to\n",
    "columns_to_clean = ['2024-25', '2025-26','2026-27','2027-28','2028-29','2029-30']\n",
    "\n",
    "# Apply the function to each column in the list\n",
    "for column in columns_to_clean:\n",
    "    defenseNR_df[column] = defenseNR_df[column].apply(conditional_splitx)\n",
    "\n",
    "defenseNR_df.to_csv('Cap Friendly Blues Non-Roster Defense.csv')"
   ]
  },
  {
   "cell_type": "markdown",
   "metadata": {},
   "source": [
    "Non-Roster Goalies"
   ]
  },
  {
   "cell_type": "code",
   "execution_count": 98,
   "metadata": {},
   "outputs": [
    {
     "name": "stderr",
     "output_type": "stream",
     "text": [
      "C:\\Users\\nsofi\\AppData\\Local\\Temp\\ipykernel_33384\\721026541.py:14: FutureWarning: Passing literal html to 'read_html' is deprecated and will be removed in a future version. To read from a literal string, wrap it in a 'StringIO' object.\n",
      "  goaliesNR_df = pd.read_html(str(goaliesNR_table))[0]\n"
     ]
    }
   ],
   "source": [
    "tables = soup.find_all('table', class_=['cf_teamProfileRosterSection__table', \n",
    "                                        'cf_table__collapsiblePlayerColumn', \n",
    "                                        'cf_table__default', \n",
    "                                        'cf_table__fixed', \n",
    "                                        'cf_table__stickyFirstColumn'])\n",
    "\n",
    "# Get the fifth instance of the table\n",
    "if len(tables) > 4:\n",
    "    goaliesNR_table = tables[10]  # index 4 for the fifth instance\n",
    "else:\n",
    "    raise ValueError(\"The specified table class does not have a fifth instance.\")\n",
    "\n",
    "# Convert the table to a DataFrame\n",
    "goaliesNR_df = pd.read_html(str(goaliesNR_table))[0]\n",
    "\n",
    "#Function to clean the season open IR table\n",
    "# List of columns to apply the function to\n",
    "columns_to_clean = ['2024-25', '2025-26','2026-27','2027-28','2028-29','2029-30']\n",
    "\n",
    "# Apply the function to each column in the list\n",
    "for column in columns_to_clean:\n",
    "    goaliesNR_df[column] = goaliesNR_df[column].apply(conditional_splitx)\n",
    "\n",
    "goaliesNR_df.to_csv('Cap Friendly Blues Non-Roster Goalies.csv')"
   ]
  }
 ],
 "metadata": {
  "kernelspec": {
   "display_name": ".venv",
   "language": "python",
   "name": "python3"
  },
  "language_info": {
   "codemirror_mode": {
    "name": "ipython",
    "version": 3
   },
   "file_extension": ".py",
   "mimetype": "text/x-python",
   "name": "python",
   "nbconvert_exporter": "python",
   "pygments_lexer": "ipython3",
   "version": "3.11.4"
  }
 },
 "nbformat": 4,
 "nbformat_minor": 2
}
