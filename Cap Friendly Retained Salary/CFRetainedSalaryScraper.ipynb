{
 "cells": [
  {
   "cell_type": "code",
   "execution_count": 1,
   "metadata": {},
   "outputs": [],
   "source": [
    "import requests\n",
    "from bs4 import BeautifulSoup\n",
    "import pandas as pd\n",
    "import time\n",
    "import logging\n",
    "import lxml"
   ]
  },
  {
   "cell_type": "markdown",
   "metadata": {},
   "source": [
    "Now that necessary packages are installed, going to parse the needed url. This URL has every retained salary transaction since 2013. So I am going to scrape the cap friendly website (Retained Salary Tab) and get this into a dataframe that I can download and put into the MySQL database"
   ]
  },
  {
   "cell_type": "code",
   "execution_count": 2,
   "metadata": {},
   "outputs": [],
   "source": [
    "url_v2 = \"https://www.capfriendly.com/retained-salary-transactions\"\n",
    "\n",
    "req = requests.get(url_v2)\n",
    "soup = BeautifulSoup(req.content)  # make a soup of html & css from the web page"
   ]
  },
  {
   "cell_type": "code",
   "execution_count": 3,
   "metadata": {},
   "outputs": [],
   "source": [
    "df = pd.read_html(url_v2, header=0, index_col = 0, na_values=[\"-\"])[0]"
   ]
  },
  {
   "cell_type": "code",
   "execution_count": 4,
   "metadata": {},
   "outputs": [
    {
     "data": {
      "text/plain": [
       "(209, 6)"
      ]
     },
     "execution_count": 4,
     "metadata": {},
     "output_type": "execute_result"
    }
   ],
   "source": [
    "df.shape"
   ]
  },
  {
   "cell_type": "markdown",
   "metadata": {},
   "source": [
    "After running df.shape, we can see our dataframe has 206 rows (players) and 6 columns (attributes about that player contract). "
   ]
  },
  {
   "cell_type": "markdown",
   "metadata": {},
   "source": [
    "Now doing the actual scraping and putting into a dataframe"
   ]
  },
  {
   "cell_type": "code",
   "execution_count": 5,
   "metadata": {},
   "outputs": [
    {
     "name": "stdout",
     "output_type": "stream",
     "text": [
      "Start scapring page 1\n",
      "209 rows were retrieved from page number 1\n"
     ]
    }
   ],
   "source": [
    "req = requests.get(url_v2)\n",
    "soup = BeautifulSoup(req.content)  # make a soup of html & css from the web page\n",
    "\n",
    "\n",
    "url_start = \"https://www.capfriendly.com/retained-salary-transactions\"\n",
    "\n",
    "\n",
    "print(f\"Start scapring page 1\")\n",
    "\n",
    "time.sleep(1)  # let the page download the results\n",
    "url = url_start   # we parse the needed page by adding a parameter for url\n",
    "df = pd.read_html(url, header=0, index_col = 0, na_values=[\"-\"])[0]\n",
    "df = df.reset_index()  # to have player name as a separate column\n",
    "print(df.shape[0], f\"rows were retrieved from page number 1\")\n",
    "\n",
    "result_df = df"
   ]
  },
  {
   "cell_type": "code",
   "execution_count": 6,
   "metadata": {},
   "outputs": [
    {
     "data": {
      "text/html": [
       "<div>\n",
       "<style scoped>\n",
       "    .dataframe tbody tr th:only-of-type {\n",
       "        vertical-align: middle;\n",
       "    }\n",
       "\n",
       "    .dataframe tbody tr th {\n",
       "        vertical-align: top;\n",
       "    }\n",
       "\n",
       "    .dataframe thead th {\n",
       "        text-align: right;\n",
       "    }\n",
       "</style>\n",
       "<table border=\"1\" class=\"dataframe\">\n",
       "  <thead>\n",
       "    <tr style=\"text-align: right;\">\n",
       "      <th></th>\n",
       "      <th>PLAYER</th>\n",
       "      <th>TEAM</th>\n",
       "      <th>DATE</th>\n",
       "      <th>PERCENTAGE</th>\n",
       "      <th>INITIAL CAP HIT</th>\n",
       "      <th>RETAINED CAP HIT</th>\n",
       "      <th>ACTIVE CONTRACT</th>\n",
       "    </tr>\n",
       "  </thead>\n",
       "  <tbody>\n",
       "    <tr>\n",
       "      <th>0</th>\n",
       "      <td>Reilly Smith</td>\n",
       "      <td>PIT</td>\n",
       "      <td>Jul. 1, 2024</td>\n",
       "      <td>25.00%</td>\n",
       "      <td>$5,000,000</td>\n",
       "      <td>$1,250,000</td>\n",
       "      <td>✔</td>\n",
       "    </tr>\n",
       "    <tr>\n",
       "      <th>1</th>\n",
       "      <td>Ilya Mikheyev</td>\n",
       "      <td>VAN</td>\n",
       "      <td>Jun. 26, 2024</td>\n",
       "      <td>15.00%</td>\n",
       "      <td>$4,750,000</td>\n",
       "      <td>$712,500</td>\n",
       "      <td>✔</td>\n",
       "    </tr>\n",
       "    <tr>\n",
       "      <th>2</th>\n",
       "      <td>Joonas Korpisalo</td>\n",
       "      <td>OTT</td>\n",
       "      <td>Jun. 24, 2024</td>\n",
       "      <td>25.00%</td>\n",
       "      <td>$4,000,000</td>\n",
       "      <td>$1,000,000</td>\n",
       "      <td>✔</td>\n",
       "    </tr>\n",
       "    <tr>\n",
       "      <th>3</th>\n",
       "      <td>Jacob Markström</td>\n",
       "      <td>CGY</td>\n",
       "      <td>Jun. 19, 2024</td>\n",
       "      <td>31.25%</td>\n",
       "      <td>$6,000,000</td>\n",
       "      <td>$1,875,000</td>\n",
       "      <td>✔</td>\n",
       "    </tr>\n",
       "    <tr>\n",
       "      <th>4</th>\n",
       "      <td>Tyler Toffoli</td>\n",
       "      <td>NJD</td>\n",
       "      <td>Mar. 8, 2024</td>\n",
       "      <td>50.00%</td>\n",
       "      <td>$4,250,000</td>\n",
       "      <td>$2,125,000</td>\n",
       "      <td>NaN</td>\n",
       "    </tr>\n",
       "  </tbody>\n",
       "</table>\n",
       "</div>"
      ],
      "text/plain": [
       "             PLAYER TEAM           DATE PERCENTAGE INITIAL CAP HIT  \\\n",
       "0      Reilly Smith  PIT   Jul. 1, 2024     25.00%      $5,000,000   \n",
       "1     Ilya Mikheyev  VAN  Jun. 26, 2024     15.00%      $4,750,000   \n",
       "2  Joonas Korpisalo  OTT  Jun. 24, 2024     25.00%      $4,000,000   \n",
       "3   Jacob Markström  CGY  Jun. 19, 2024     31.25%      $6,000,000   \n",
       "4     Tyler Toffoli  NJD   Mar. 8, 2024     50.00%      $4,250,000   \n",
       "\n",
       "  RETAINED CAP HIT ACTIVE CONTRACT  \n",
       "0       $1,250,000               ✔  \n",
       "1         $712,500               ✔  \n",
       "2       $1,000,000               ✔  \n",
       "3       $1,875,000               ✔  \n",
       "4       $2,125,000             NaN  "
      ]
     },
     "execution_count": 6,
     "metadata": {},
     "output_type": "execute_result"
    }
   ],
   "source": [
    "result_df.head(5)"
   ]
  },
  {
   "cell_type": "markdown",
   "metadata": {},
   "source": [
    "Now, I have the entire retained salary transactions table from CapFriendly. So time to export it to a csv, and then upload it into the MySQL database I created. "
   ]
  },
  {
   "cell_type": "code",
   "execution_count": 7,
   "metadata": {},
   "outputs": [],
   "source": [
    "result_df.to_csv('CapFriendly RetainedSalaryTransactions2.csv', encoding='utf-8')\n",
    "result_df.to_csv('CapFriendly RetainedSalaryTransactions.csv')"
   ]
  },
  {
   "cell_type": "markdown",
   "metadata": {},
   "source": [
    "The csv file above is a weird file type **Forgot to add the .csv extension above, issue is fixed now. Just have to replace the weird \"âœ” with a Yes as when a check mark is scraped off their website, it can not get represented correctly in excel. So just replace that symbol with the text Yes."
   ]
  }
 ],
 "metadata": {
  "kernelspec": {
   "display_name": ".venv",
   "language": "python",
   "name": "python3"
  },
  "language_info": {
   "codemirror_mode": {
    "name": "ipython",
    "version": 3
   },
   "file_extension": ".py",
   "mimetype": "text/x-python",
   "name": "python",
   "nbconvert_exporter": "python",
   "pygments_lexer": "ipython3",
   "version": "3.11.4"
  }
 },
 "nbformat": 4,
 "nbformat_minor": 2
}
