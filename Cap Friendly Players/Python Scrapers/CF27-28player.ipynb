{
 "cells": [
  {
   "cell_type": "code",
   "execution_count": 1,
   "metadata": {},
   "outputs": [],
   "source": [
    "import requests\n",
    "from bs4 import BeautifulSoup\n",
    "import pandas as pd\n",
    "import time\n",
    "import logging\n",
    "import lxml"
   ]
  },
  {
   "cell_type": "markdown",
   "metadata": {},
   "source": [
    "Now that necessary packages are installed, going to parse the needed url. This URL has stats for each player in the league for the 2027-28 season, as well as contract information only for the year of 2027-28. So I am going to scrape the cap friendly website (Players Browse tab) and get this into a dataframe that I can download and put into the MySQL database"
   ]
  },
  {
   "cell_type": "code",
   "execution_count": 2,
   "metadata": {},
   "outputs": [],
   "source": [
    "url_v2 = \"https://www.capfriendly.com/browse/active/2028?stats-season=2017&display=signing-team,birthday,country,weight,height,weightkg,heightcm,draft,slide-candidate,waivers-exempt,signing-status,expiry-year,performance-bonus,signing-bonus,caphit-percent,aav,length,minors-salary,base-salary,arbitration-eligible,type,signing-age,signing-date,arbitration,extension&hide=skater-stats,goalie-stats&limits=gp-5-90\"\n",
    "\n",
    "req = requests.get(url_v2)\n",
    "soup = BeautifulSoup(req.content)  # make a soup of html & css from the web page"
   ]
  },
  {
   "cell_type": "code",
   "execution_count": 3,
   "metadata": {},
   "outputs": [],
   "source": [
    "df = pd.read_html(url_v2, header=0, index_col = 0, na_values=[\"-\"])[0]"
   ]
  },
  {
   "cell_type": "code",
   "execution_count": 4,
   "metadata": {},
   "outputs": [
    {
     "data": {
      "text/plain": [
       "(50, 32)"
      ]
     },
     "execution_count": 4,
     "metadata": {},
     "output_type": "execute_result"
    }
   ],
   "source": [
    "df.shape"
   ]
  },
  {
   "cell_type": "markdown",
   "metadata": {},
   "source": [
    "After running df.shape, we can see our dataframe has 50 rows (players) and 32 columns (attributes about that player for the 2026-27 season). There are more than 50 players but they are on different url links technically as the table on that specific url only shows 50 players. So we need to retrieve the rest of the players. "
   ]
  },
  {
   "cell_type": "markdown",
   "metadata": {},
   "source": [
    "Scraping multiple pages of the main table"
   ]
  },
  {
   "cell_type": "code",
   "execution_count": 5,
   "metadata": {},
   "outputs": [],
   "source": [
    "info_about_lists = soup.find_all(\"a\", {\"class\": \"whi pagin_r\"})  # via devtools we find the element that allows to switch between pages of data\n",
    "     "
   ]
  },
  {
   "cell_type": "code",
   "execution_count": 6,
   "metadata": {},
   "outputs": [
    {
     "name": "stdout",
     "output_type": "stream",
     "text": [
      "[<a class=\"whi pagin_r\" data-val=\"2\" href=\"/browse/?p=2\">2</a>]\n"
     ]
    }
   ],
   "source": [
    "print(info_about_lists)  # all links to other pages of data"
   ]
  },
  {
   "cell_type": "code",
   "execution_count": 7,
   "metadata": {},
   "outputs": [],
   "source": [
    "last_list_num = int(info_about_lists[-1][\"data-val\"])  # take the last number of page from date-val so we now how many values were selected for us\n",
    "     "
   ]
  },
  {
   "cell_type": "code",
   "execution_count": 8,
   "metadata": {},
   "outputs": [
    {
     "name": "stdout",
     "output_type": "stream",
     "text": [
      "2\n"
     ]
    }
   ],
   "source": [
    "print(last_list_num)  # check that 2nd is last page number we got"
   ]
  },
  {
   "cell_type": "markdown",
   "metadata": {},
   "source": [
    "Now we can use a for loop to parse all the data we have on multiple pages"
   ]
  },
  {
   "cell_type": "code",
   "execution_count": 9,
   "metadata": {},
   "outputs": [
    {
     "name": "stdout",
     "output_type": "stream",
     "text": [
      "Start scapring page 1\n",
      "50 rows were retrieved from page number 1\n",
      "Start scapring page 2\n",
      "5 rows were retrieved from page number 2\n"
     ]
    }
   ],
   "source": [
    "req = requests.get(url_v2)\n",
    "soup = BeautifulSoup(req.content)  # make a soup of html & css from the web page\n",
    "\n",
    "info_about_lists = soup.find_all(\"a\", {\"class\": \"whi pagin_r\"})  # via devtools we find the element that allows to switch between pages of data\n",
    "last_list_num = int(info_about_lists[-1][\"data-val\"])  # take the last number of page from date-val so we now how many values were selected for us\n",
    "\n",
    "pages_dfs = []\n",
    "\n",
    "url_start = \"https://www.capfriendly.com/browse/active/2028?stats-season=2017&display=signing-team,birthday,country,weight,height,weightkg,heightcm,draft,slide-candidate,waivers-exempt,signing-status,expiry-year,performance-bonus,signing-bonus,caphit-percent,aav,length,minors-salary,base-salary,arbitration-eligible,type,signing-age,signing-date,arbitration,extension&hide=skater-stats,goalie-stats&limits=gp-5-90\"\n",
    "\n",
    "for page_num in range(1, last_list_num + 1):\n",
    "\n",
    "        print(f\"Start scapring page {page_num}\")\n",
    "\n",
    "        time.sleep(1)  # let the page download the results\n",
    "\n",
    "        url = url_start + f\"&pg={page_num}\"  # we parse the needed page by adding a parameter for url\n",
    "        df = pd.read_html(url, header=0, index_col = 0, na_values=[\"-\"])[0]\n",
    "\n",
    "        df = df.reset_index()  # to have player name as a separate column\n",
    "\n",
    "        print(df.shape[0], f\"rows were retrieved from page number {page_num}\")\n",
    "\n",
    "        pages_dfs.append(df)\n",
    "\n",
    "\n",
    "result_df = pd.concat(pages_dfs)"
   ]
  },
  {
   "cell_type": "code",
   "execution_count": 10,
   "metadata": {},
   "outputs": [
    {
     "data": {
      "text/html": [
       "<div>\n",
       "<style scoped>\n",
       "    .dataframe tbody tr th:only-of-type {\n",
       "        vertical-align: middle;\n",
       "    }\n",
       "\n",
       "    .dataframe tbody tr th {\n",
       "        vertical-align: top;\n",
       "    }\n",
       "\n",
       "    .dataframe thead th {\n",
       "        text-align: right;\n",
       "    }\n",
       "</style>\n",
       "<table border=\"1\" class=\"dataframe\">\n",
       "  <thead>\n",
       "    <tr style=\"text-align: right;\">\n",
       "      <th></th>\n",
       "      <th>PLAYER</th>\n",
       "      <th>TEAM</th>\n",
       "      <th>AGE</th>\n",
       "      <th>DATE OF BIRTH</th>\n",
       "      <th>COUNTRY</th>\n",
       "      <th>WEIGHT</th>\n",
       "      <th>HEIGHT</th>\n",
       "      <th>POS</th>\n",
       "      <th>HANDED</th>\n",
       "      <th>DRAFTED</th>\n",
       "      <th>...</th>\n",
       "      <th>EXPIRY</th>\n",
       "      <th>EXP. YEAR</th>\n",
       "      <th>CAP HIT</th>\n",
       "      <th>CAP HIT %</th>\n",
       "      <th>AAV</th>\n",
       "      <th>SALARY</th>\n",
       "      <th>BASE SALARY</th>\n",
       "      <th>MINORS</th>\n",
       "      <th>S.BONUS</th>\n",
       "      <th>P.BONUS</th>\n",
       "    </tr>\n",
       "  </thead>\n",
       "  <tbody>\n",
       "    <tr>\n",
       "      <th>0</th>\n",
       "      <td>1. Auston Matthews</td>\n",
       "      <td>TOR</td>\n",
       "      <td>29</td>\n",
       "      <td>Sep. 17, 1997</td>\n",
       "      <td>United States</td>\n",
       "      <td>215 lbs - 98 kg</td>\n",
       "      <td>6'3\" - 191 cm</td>\n",
       "      <td>C</td>\n",
       "      <td>Left</td>\n",
       "      <td>1 - Round 1 - 2016 (TOR)</td>\n",
       "      <td>...</td>\n",
       "      <td>UFA</td>\n",
       "      <td>2028</td>\n",
       "      <td>$13,250,000</td>\n",
       "      <td>15.9%</td>\n",
       "      <td>$13,250,000</td>\n",
       "      <td>$10,020,000</td>\n",
       "      <td>$900,000</td>\n",
       "      <td>$10,020,000</td>\n",
       "      <td>$9,120,000</td>\n",
       "      <td>$0</td>\n",
       "    </tr>\n",
       "    <tr>\n",
       "      <th>1</th>\n",
       "      <td>2. Nathan MacKinnon</td>\n",
       "      <td>COL</td>\n",
       "      <td>31</td>\n",
       "      <td>Sep. 1, 1995</td>\n",
       "      <td>Canada</td>\n",
       "      <td>200 lbs - 91 kg</td>\n",
       "      <td>6'0\" - 183 cm</td>\n",
       "      <td>C</td>\n",
       "      <td>Right</td>\n",
       "      <td>1 - Round 1 - 2013 (COL)</td>\n",
       "      <td>...</td>\n",
       "      <td>UFA</td>\n",
       "      <td>2031</td>\n",
       "      <td>$12,600,000</td>\n",
       "      <td>15.3%</td>\n",
       "      <td>$12,600,000</td>\n",
       "      <td>$9,900,000</td>\n",
       "      <td>$990,000</td>\n",
       "      <td>$9,900,000</td>\n",
       "      <td>$8,910,000</td>\n",
       "      <td>$0</td>\n",
       "    </tr>\n",
       "    <tr>\n",
       "      <th>2</th>\n",
       "      <td>3. William Nylander</td>\n",
       "      <td>TOR</td>\n",
       "      <td>31</td>\n",
       "      <td>May 1, 1996</td>\n",
       "      <td>Canada</td>\n",
       "      <td>202 lbs - 92 kg</td>\n",
       "      <td>6'0\" - 183 cm</td>\n",
       "      <td>RW</td>\n",
       "      <td>Right</td>\n",
       "      <td>8 - Round 1 - 2014 (TOR)</td>\n",
       "      <td>...</td>\n",
       "      <td>UFA</td>\n",
       "      <td>2032</td>\n",
       "      <td>$11,500,000</td>\n",
       "      <td>13.8%</td>\n",
       "      <td>$11,500,000</td>\n",
       "      <td>$11,500,000</td>\n",
       "      <td>$1,000,000</td>\n",
       "      <td>$11,500,000</td>\n",
       "      <td>$10,500,000</td>\n",
       "      <td>$0</td>\n",
       "    </tr>\n",
       "    <tr>\n",
       "      <th>3</th>\n",
       "      <td>4. David Pastrnak</td>\n",
       "      <td>BOS</td>\n",
       "      <td>31</td>\n",
       "      <td>May 25, 1996</td>\n",
       "      <td>Czech Republic</td>\n",
       "      <td>194 lbs - 88 kg</td>\n",
       "      <td>6'0\" - 183 cm</td>\n",
       "      <td>RW</td>\n",
       "      <td>Right</td>\n",
       "      <td>25 - Round 1 - 2014 (BOS)</td>\n",
       "      <td>...</td>\n",
       "      <td>UFA</td>\n",
       "      <td>2031</td>\n",
       "      <td>$11,250,000</td>\n",
       "      <td>13.6%</td>\n",
       "      <td>$11,250,000</td>\n",
       "      <td>$11,250,000</td>\n",
       "      <td>$8,250,000</td>\n",
       "      <td>$11,250,000</td>\n",
       "      <td>$3,000,000</td>\n",
       "      <td>$0</td>\n",
       "    </tr>\n",
       "    <tr>\n",
       "      <th>4</th>\n",
       "      <td>5. Jonathan Huberdeau</td>\n",
       "      <td>CGY</td>\n",
       "      <td>34</td>\n",
       "      <td>Jun. 4, 1993</td>\n",
       "      <td>Canada</td>\n",
       "      <td>202 lbs - 92 kg</td>\n",
       "      <td>6'1\" - 185 cm</td>\n",
       "      <td>LW, RW</td>\n",
       "      <td>Left</td>\n",
       "      <td>3 - Round 1 - 2011 (FLA)</td>\n",
       "      <td>...</td>\n",
       "      <td>UFA</td>\n",
       "      <td>2031</td>\n",
       "      <td>$10,500,000</td>\n",
       "      <td>12.7%</td>\n",
       "      <td>$10,500,000</td>\n",
       "      <td>$10,500,000</td>\n",
       "      <td>$1,000,000</td>\n",
       "      <td>$10,500,000</td>\n",
       "      <td>$9,500,000</td>\n",
       "      <td>$0</td>\n",
       "    </tr>\n",
       "  </tbody>\n",
       "</table>\n",
       "<p>5 rows × 33 columns</p>\n",
       "</div>"
      ],
      "text/plain": [
       "                  PLAYER TEAM  AGE  DATE OF BIRTH         COUNTRY  \\\n",
       "0     1. Auston Matthews  TOR   29  Sep. 17, 1997   United States   \n",
       "1    2. Nathan MacKinnon  COL   31   Sep. 1, 1995          Canada   \n",
       "2    3. William Nylander  TOR   31    May 1, 1996          Canada   \n",
       "3      4. David Pastrnak  BOS   31   May 25, 1996  Czech Republic   \n",
       "4  5. Jonathan Huberdeau  CGY   34   Jun. 4, 1993          Canada   \n",
       "\n",
       "            WEIGHT         HEIGHT     POS HANDED                    DRAFTED  \\\n",
       "0  215 lbs - 98 kg  6'3\" - 191 cm       C   Left   1 - Round 1 - 2016 (TOR)   \n",
       "1  200 lbs - 91 kg  6'0\" - 183 cm       C  Right   1 - Round 1 - 2013 (COL)   \n",
       "2  202 lbs - 92 kg  6'0\" - 183 cm      RW  Right   8 - Round 1 - 2014 (TOR)   \n",
       "3  194 lbs - 88 kg  6'0\" - 183 cm      RW  Right  25 - Round 1 - 2014 (BOS)   \n",
       "4  202 lbs - 92 kg  6'1\" - 185 cm  LW, RW   Left   3 - Round 1 - 2011 (FLA)   \n",
       "\n",
       "   ...  EXPIRY  EXP. YEAR      CAP HIT CAP HIT %          AAV       SALARY  \\\n",
       "0  ...     UFA       2028  $13,250,000     15.9%  $13,250,000  $10,020,000   \n",
       "1  ...     UFA       2031  $12,600,000     15.3%  $12,600,000   $9,900,000   \n",
       "2  ...     UFA       2032  $11,500,000     13.8%  $11,500,000  $11,500,000   \n",
       "3  ...     UFA       2031  $11,250,000     13.6%  $11,250,000  $11,250,000   \n",
       "4  ...     UFA       2031  $10,500,000     12.7%  $10,500,000  $10,500,000   \n",
       "\n",
       "  BASE SALARY       MINORS      S.BONUS P.BONUS  \n",
       "0    $900,000  $10,020,000   $9,120,000      $0  \n",
       "1    $990,000   $9,900,000   $8,910,000      $0  \n",
       "2  $1,000,000  $11,500,000  $10,500,000      $0  \n",
       "3  $8,250,000  $11,250,000   $3,000,000      $0  \n",
       "4  $1,000,000  $10,500,000   $9,500,000      $0  \n",
       "\n",
       "[5 rows x 33 columns]"
      ]
     },
     "execution_count": 10,
     "metadata": {},
     "output_type": "execute_result"
    }
   ],
   "source": [
    "result_df.head(5)"
   ]
  },
  {
   "cell_type": "markdown",
   "metadata": {},
   "source": [
    "Now, I have player statistics and cap info for the 2027-28 season. I have every player in the entire league for the 2027-28 season!!! So time to export it to a csv, and then upload it into the MySQL database I created. "
   ]
  },
  {
   "cell_type": "code",
   "execution_count": 11,
   "metadata": {},
   "outputs": [],
   "source": [
    "result_df.to_csv('Cap Friendly 2027-28 Player Data2.csv', encoding='utf-8')\n",
    "result_df.to_csv('Cap Friendly 2027-28 Player Data.csv')"
   ]
  },
  {
   "cell_type": "markdown",
   "metadata": {},
   "source": [
    "The csv file above is a weird file type **Forgot to add the .csv extension above, issue is fixed now. Just have to replace the weird \"âœ” with a Yes as when a check mark is scraped off their website, it can not get represented correctly in excel. So just replace that symbol with the text Yes."
   ]
  },
  {
   "cell_type": "markdown",
   "metadata": {},
   "source": [
    "Now I have the 2027-28 CapFriendly Player Data all downloaded, time to download the 10 prior seasons(Include that seasons stats and contract information) and 8 seasons after (will include contract information only). Each Season will be done in a separate file to ensure this notebook does not get negatively impacted and to keep code cleaner"
   ]
  }
 ],
 "metadata": {
  "kernelspec": {
   "display_name": ".venv",
   "language": "python",
   "name": "python3"
  },
  "language_info": {
   "codemirror_mode": {
    "name": "ipython",
    "version": 3
   },
   "file_extension": ".py",
   "mimetype": "text/x-python",
   "name": "python",
   "nbconvert_exporter": "python",
   "pygments_lexer": "ipython3",
   "version": "3.11.4"
  }
 },
 "nbformat": 4,
 "nbformat_minor": 2
}
